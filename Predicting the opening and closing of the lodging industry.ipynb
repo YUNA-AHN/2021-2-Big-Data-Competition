{
 "cells": [
  {
   "cell_type": "code",
   "execution_count": 1,
   "id": "e0319252",
   "metadata": {},
   "outputs": [],
   "source": [
    "import pandas as pd\n",
    "import numpy as np\n",
    "\n",
    "# 거리 계산 패키지\n",
    "import pyproj\n",
    "from haversine import haversine\n",
    "\n",
    "# 시각화 패키지\n",
    "import matplotlib.pyplot as plt\n",
    "import seaborn as sns\n",
    "\n",
    "import matplotlib.pyplot as plt\n",
    "%matplotlib inline\n",
    "\n",
    "# 한글 폰트 적용\n",
    "from matplotlib import font_manager, rc\n",
    "\n",
    "font_name = font_manager.FontProperties(fname=\"c:/Windows/Fonts/malgun.ttf\").get_name()\n",
    "rc('font', family=font_name)"
   ]
  },
  {
   "cell_type": "code",
   "execution_count": 3,
   "id": "d487dece",
   "metadata": {},
   "outputs": [
    {
     "name": "stderr",
     "output_type": "stream",
     "text": [
      "C:\\ProgramData\\Anaconda3\\lib\\site-packages\\openpyxl\\styles\\stylesheet.py:226: UserWarning: Workbook contains no default style, apply openpyxl's default\n",
      "  warn(\"Workbook contains no default style, apply openpyxl's default\")\n"
     ]
    }
   ],
   "source": [
    "# 7개의 데이터 불러오기\n",
    "data1 =  pd.read_excel('C:/Users/sgvin/Desktop/개인2/대학/동아리/경진대회/2022 동계 경진대회/데이터셋/03_11_01_P.xlsx')\n",
    "data2 =  pd.read_excel('C:/Users/sgvin/Desktop/개인2/대학/동아리/경진대회/2022 동계 경진대회/데이터셋/03_11_02_P.xlsx')\n",
    "data3 =  pd.read_excel('C:/Users/sgvin/Desktop/개인2/대학/동아리/경진대회/2022 동계 경진대회/데이터셋/03_11_03_P.xlsx')\n",
    "data4 =  pd.read_excel('C:/Users/sgvin/Desktop/개인2/대학/동아리/경진대회/2022 동계 경진대회/데이터셋/03_11_04_P.xlsx')\n",
    "data5 =  pd.read_excel('C:/Users/sgvin/Desktop/개인2/대학/동아리/경진대회/2022 동계 경진대회/데이터셋/03_11_05_P.xlsx')\n",
    "data6 =  pd.read_excel('C:/Users/sgvin/Desktop/개인2/대학/동아리/경진대회/2022 동계 경진대회/데이터셋/03_11_06_P.xlsx')\n",
    "data7 =  pd.read_excel('C:/Users/sgvin/Desktop/개인2/대학/동아리/경진대회/2022 동계 경진대회/데이터셋/03_11_07_P.xlsx')"
   ]
  },
  {
   "cell_type": "markdown",
   "id": "dcfa0566",
   "metadata": {},
   "source": [
    "# 데이터 탐색"
   ]
  },
  {
   "cell_type": "code",
   "execution_count": 4,
   "id": "8681ee2b",
   "metadata": {
    "scrolled": true
   },
   "outputs": [
    {
     "name": "stdout",
     "output_type": "stream",
     "text": [
      "(3055, 64)\n",
      "(869, 63)\n",
      "(53992, 50)\n",
      "(3524, 63)\n",
      "(614, 63)\n",
      "(1931, 63)\n",
      "(3025, 63)\n"
     ]
    }
   ],
   "source": [
    "# 7개의 데이터 형태 확인\n",
    "print(data1.shape)\n",
    "print(data2.shape)\n",
    "print(data3.shape)\n",
    "print(data4.shape)\n",
    "print(data5.shape)\n",
    "print(data6.shape)\n",
    "print(data7.shape)"
   ]
  },
  {
   "cell_type": "code",
   "execution_count": 5,
   "id": "3808be00",
   "metadata": {
    "scrolled": false
   },
   "outputs": [
    {
     "name": "stdout",
     "output_type": "stream",
     "text": [
      "data1 Index(['번호', '개방서비스명', '개방서비스아이디', '개방자치단체코드', '관리번호', '인허가일자', '인허가취소일자',\n",
      "       '영업상태구분코드', '영업상태명', '상세영업상태코드', '상세영업상태명', '폐업일자', '휴업시작일자', '휴업종료일자',\n",
      "       '재개업일자', '소재지전화', '소재지면적', '소재지우편번호', '소재지전체주소', '도로명전체주소', '도로명우편번호',\n",
      "       '사업장명', '최종수정시점', '데이터갱신구분', '데이터갱신일자', '업태구분명', '좌표정보(X)', '좌표정보(Y)',\n",
      "       '문화체육업종명', '문화사업자구분명', '지역구분명', '총층수', '주변환경명', '제작취급품목내용', '보험기관명',\n",
      "       '건물용도명', '지상층수', '지하층수', '객실수', '건축연면적', '영문상호명', '영문상호주소', '선박총톤수',\n",
      "       '선박척수', '선박제원', '무대면적', '좌석수', '기념품종류', '회의실별동시수용인원', '시설면적', '놀이기구수내역',\n",
      "       '놀이시설수', '방송시설유무', '발전시설유무', '의무실유무', '안내소유무', '기획여행보험시작일자',\n",
      "       '기획여행보험종료일자', '자본금', '보험시작일자', '보험종료일자', '부대시설내역', '시설규모', '관광숙박업상세명'],\n",
      "      dtype='object')\n",
      "data2 Index(['번호', '개방서비스명', '개방서비스아이디', '개방자치단체코드', '관리번호', '인허가일자', '인허가취소일자',\n",
      "       '영업상태구분코드', '영업상태명', '상세영업상태코드', '상세영업상태명', '폐업일자', '휴업시작일자', '휴업종료일자',\n",
      "       '재개업일자', '소재지전화', '소재지면적', '소재지우편번호', '소재지전체주소', '도로명전체주소', '도로명우편번호',\n",
      "       '사업장명', '최종수정시점', '데이터갱신구분', '데이터갱신일자', '업태구분명', '좌표정보(X)', '좌표정보(Y)',\n",
      "       '문화체육업종명', '문화사업자구분명', '지역구분명', '총층수', '주변환경명', '제작취급품목내용', '보험기관명',\n",
      "       '건물용도명', '지상층수', '지하층수', '객실수', '건축연면적', '영문상호명', '영문상호주소', '선박총톤수',\n",
      "       '선박척수', '선박제원', '무대면적', '좌석수', '기념품종류', '회의실별동시수용인원', '시설면적', '놀이기구수내역',\n",
      "       '놀이시설수', '방송시설유무', '발전시설유무', '의무실유무', '안내소유무', '기획여행보험시작일자',\n",
      "       '기획여행보험종료일자', '자본금', '보험시작일자', '보험종료일자', '부대시설내역', '시설규모'],\n",
      "      dtype='object')\n",
      "data3 Index(['번호', '개방서비스명', '개방서비스아이디', '개방자치단체코드', '관리번호', '인허가일자', '인허가취소일자',\n",
      "       '영업상태구분코드', '영업상태명', '상세영업상태코드', '상세영업상태명', '폐업일자', '휴업시작일자', '휴업종료일자',\n",
      "       '재개업일자', '소재지전화', '소재지면적', '소재지우편번호', '소재지전체주소', '도로명전체주소', '도로명우편번호',\n",
      "       '사업장명', '최종수정시점', '데이터갱신구분', '데이터갱신일자', '업태구분명', '좌표정보(X)', '좌표정보(Y)',\n",
      "       '위생업태명', '건물지상층수', '건물지하층수', '사용시작지상층', '사용끝지상층', '사용시작지하층', '사용끝지하층',\n",
      "       '한실수', '양실수', '욕실수', '발한실여부', '좌석수', '조건부허가신고사유', '조건부허가시작일자',\n",
      "       '조건부허가종료일자', '건물소유구분명', '세탁기수', '여성종사자수', '남성종사자수', '회수건조수', '침대수',\n",
      "       '다중이용업소여부'],\n",
      "      dtype='object')\n"
     ]
    }
   ],
   "source": [
    "# 데이터 통합을 위한 공통된 컬럼 확인 : 3가지 유형\n",
    "print('data1', data1.columns)\n",
    "print('data2', data2.columns)\n",
    "print('data3', data3.columns)"
   ]
  },
  {
   "cell_type": "code",
   "execution_count": 6,
   "id": "eff6e44c",
   "metadata": {
    "scrolled": false
   },
   "outputs": [
    {
     "data": {
      "text/plain": [
       "인허가취소일자       3031\n",
       "폐업일자          2557\n",
       "휴업시작일자        2943\n",
       "휴업종료일자        2943\n",
       "재개업일자         3055\n",
       "소재지전화          991\n",
       "소재지면적         3055\n",
       "소재지우편번호       1942\n",
       "도로명전체주소        133\n",
       "도로명우편번호        788\n",
       "업태구분명         3055\n",
       "좌표정보(X)         99\n",
       "좌표정보(Y)         99\n",
       "문화사업자구분명      2283\n",
       "지역구분명          888\n",
       "총층수            434\n",
       "주변환경명         1662\n",
       "제작취급품목내용      3055\n",
       "보험기관명         2727\n",
       "건물용도명         1010\n",
       "지상층수           352\n",
       "지하층수           689\n",
       "객실수            974\n",
       "건축연면적         1500\n",
       "영문상호명         2446\n",
       "영문상호주소        2449\n",
       "선박총톤수         2485\n",
       "선박척수          2486\n",
       "선박제원          3055\n",
       "무대면적          2486\n",
       "좌석수           2485\n",
       "기념품종류         3055\n",
       "회의실별동시수용인원    2481\n",
       "시설면적           350\n",
       "놀이기구수내역       3055\n",
       "놀이시설수         2486\n",
       "방송시설유무        3055\n",
       "발전시설유무        3055\n",
       "의무실유무         3055\n",
       "안내소유무         3055\n",
       "기획여행보험시작일자    3055\n",
       "기획여행보험종료일자    3055\n",
       "자본금           1299\n",
       "보험시작일자        3049\n",
       "보험종료일자        3049\n",
       "부대시설내역        3055\n",
       "시설규모           350\n",
       "관광숙박업상세명       389\n",
       "dtype: int64"
      ]
     },
     "execution_count": 6,
     "metadata": {},
     "output_type": "execute_result"
    }
   ],
   "source": [
    "# 결측치 확인\n",
    "data1.isnull().sum()[data1.isnull().sum() != 0]"
   ]
  },
  {
   "cell_type": "code",
   "execution_count": 7,
   "id": "b3b05fb7",
   "metadata": {},
   "outputs": [
    {
     "name": "stdout",
     "output_type": "stream",
     "text": [
      "['영업/정상' '폐업' '휴업' '취소/말소/만료/정지/중지']\n",
      "['취소/말소/만료/정지/중지' '영업/정상' '폐업' '휴업']\n",
      "['폐업' '영업/정상']\n",
      "['영업/정상' '폐업' '휴업' '취소/말소/만료/정지/중지']\n",
      "['영업/정상' '폐업' '휴업' '취소/말소/만료/정지/중지']\n",
      "['폐업' '영업/정상' '휴업' '취소/말소/만료/정지/중지']\n",
      "['영업/정상' '폐업' '휴업' '취소/말소/만료/정지/중지']\n"
     ]
    }
   ],
   "source": [
    "# 영업상태명 확인\n",
    "print(data1['영업상태명'].unique())\n",
    "print(data2['영업상태명'].unique())\n",
    "print(data3['영업상태명'].unique())\n",
    "print(data4['영업상태명'].unique())\n",
    "print(data5['영업상태명'].unique())\n",
    "print(data6['영업상태명'].unique())\n",
    "print(data7['영업상태명'].unique())"
   ]
  },
  {
   "cell_type": "code",
   "execution_count": 8,
   "id": "4c9ae817",
   "metadata": {
    "scrolled": true
   },
   "outputs": [
    {
     "name": "stdout",
     "output_type": "stream",
     "text": [
      "['영업중' '폐업' '휴업' '등록취소' '직권말소' '허가취소' '영업정지']\n",
      "['지정취소' '영업중' '폐업' '휴업' '직권말소' '등록취소']\n",
      "['폐업' '영업']\n",
      "['영업중' '폐업' '휴업' '등록취소' '지정취소']\n",
      "['영업중' '폐업' '휴업' '영업정지' '직권말소' '등록취소']\n",
      "['폐업' '영업중' '휴업' '지정취소']\n",
      "['영업중' '폐업' '휴업' '등록취소' '직권말소']\n"
     ]
    }
   ],
   "source": [
    "# 상세영업상태명 확인: 영업상태명 하에 분류된 열이므로 삭제 가능하다고 판단\n",
    "print(data1['상세영업상태명'].unique())\n",
    "print(data2['상세영업상태명'].unique())\n",
    "print(data3['상세영업상태명'].unique())\n",
    "print(data4['상세영업상태명'].unique())\n",
    "print(data5['상세영업상태명'].unique())\n",
    "print(data6['상세영업상태명'].unique())\n",
    "print(data7['상세영업상태명'].unique())"
   ]
  },
  {
   "cell_type": "markdown",
   "id": "b4df0119",
   "metadata": {},
   "source": [
    "# 데이터 전처리"
   ]
  },
  {
   "cell_type": "markdown",
   "id": "be355620",
   "metadata": {},
   "source": [
    "### data3의 컬럼명 변경 및 총층수 객실수 컬럼 추가"
   ]
  },
  {
   "cell_type": "code",
   "execution_count": 9,
   "id": "8139e6a8",
   "metadata": {},
   "outputs": [],
   "source": [
    "# 건물지상층수&건물지하층수 -> 지상층수&지하층수: 다른 데이터와 이름 맞춰주기\n",
    "data3 = data3.rename(columns={'건물지상층수':'지상층수'})\n",
    "data3 = data3.rename(columns={'건물지하층수':'지하층수'})"
   ]
  },
  {
   "cell_type": "code",
   "execution_count": 10,
   "id": "02d9ebe1",
   "metadata": {},
   "outputs": [],
   "source": [
    "# 총층수 =  지상층수 + 지하층수\n",
    "# 객실수 = 한실수 + 양실수\n",
    "data3['총층수'] = data3['지상층수'] + data3['지하층수']\n",
    "data3['객실수'] = data3['한실수'].fillna(0) + data3['양실수'].fillna(0)"
   ]
  },
  {
   "cell_type": "code",
   "execution_count": 11,
   "id": "5bd86973",
   "metadata": {},
   "outputs": [],
   "source": [
    "# data3의 개방서비스명: 숙박업(ex.여인숙, 호텔) -> 객실 수가 0일 수 없음: 객실수 0인 경우 삭제\n",
    "data3 = data3[data3['객실수'] != 0]"
   ]
  },
  {
   "cell_type": "markdown",
   "id": "ddef01f9",
   "metadata": {},
   "source": [
    "## 7개의 데이터 통합"
   ]
  },
  {
   "cell_type": "code",
   "execution_count": 12,
   "id": "dfa15765",
   "metadata": {
    "scrolled": false
   },
   "outputs": [],
   "source": [
    "df = pd.concat([data1,data2,data3,data4,data5,data6,data7],axis=0)"
   ]
  },
  {
   "cell_type": "code",
   "execution_count": 13,
   "id": "296c2245",
   "metadata": {
    "scrolled": true
   },
   "outputs": [
    {
     "data": {
      "text/plain": [
       "Index(['번호', '개방서비스명', '개방서비스아이디', '개방자치단체코드', '관리번호', '인허가일자', '인허가취소일자',\n",
       "       '영업상태구분코드', '영업상태명', '상세영업상태코드', '상세영업상태명', '폐업일자', '휴업시작일자', '휴업종료일자',\n",
       "       '재개업일자', '소재지전화', '소재지면적', '소재지우편번호', '소재지전체주소', '도로명전체주소', '도로명우편번호',\n",
       "       '사업장명', '최종수정시점', '데이터갱신구분', '데이터갱신일자', '업태구분명', '좌표정보(X)', '좌표정보(Y)',\n",
       "       '문화체육업종명', '문화사업자구분명', '지역구분명', '총층수', '주변환경명', '제작취급품목내용', '보험기관명',\n",
       "       '건물용도명', '지상층수', '지하층수', '객실수', '건축연면적', '영문상호명', '영문상호주소', '선박총톤수',\n",
       "       '선박척수', '선박제원', '무대면적', '좌석수', '기념품종류', '회의실별동시수용인원', '시설면적', '놀이기구수내역',\n",
       "       '놀이시설수', '방송시설유무', '발전시설유무', '의무실유무', '안내소유무', '기획여행보험시작일자',\n",
       "       '기획여행보험종료일자', '자본금', '보험시작일자', '보험종료일자', '부대시설내역', '시설규모', '관광숙박업상세명',\n",
       "       '위생업태명', '사용시작지상층', '사용끝지상층', '사용시작지하층', '사용끝지하층', '한실수', '양실수', '욕실수',\n",
       "       '발한실여부', '조건부허가신고사유', '조건부허가시작일자', '조건부허가종료일자', '건물소유구분명', '세탁기수',\n",
       "       '여성종사자수', '남성종사자수', '회수건조수', '침대수', '다중이용업소여부'],\n",
       "      dtype='object')"
      ]
     },
     "execution_count": 13,
     "metadata": {},
     "output_type": "execute_result"
    }
   ],
   "source": [
    "# df 컬럼 확인\n",
    "df.columns"
   ]
  },
  {
   "cell_type": "code",
   "execution_count": 14,
   "id": "b0a70df3",
   "metadata": {
    "scrolled": true
   },
   "outputs": [
    {
     "data": {
      "text/plain": [
       "인허가취소일자     63694\n",
       "폐업일자        39436\n",
       "휴업시작일자      63458\n",
       "휴업종료일자      63095\n",
       "재개업일자       63803\n",
       "            ...  \n",
       "여성종사자수      52938\n",
       "남성종사자수      52950\n",
       "회수건조수       27802\n",
       "침대수         27858\n",
       "다중이용업소여부    13018\n",
       "Length: 69, dtype: int64"
      ]
     },
     "execution_count": 14,
     "metadata": {},
     "output_type": "execute_result"
    }
   ],
   "source": [
    "# df의 결측치 확인\n",
    "df.isnull().sum()[df.isnull().sum() != 0]"
   ]
  },
  {
   "cell_type": "markdown",
   "id": "724a0378",
   "metadata": {},
   "source": [
    "## df에서 7개 데이터의 공통된 컬럼만 남기고 삭제"
   ]
  },
  {
   "cell_type": "code",
   "execution_count": 15,
   "id": "2e7f018c",
   "metadata": {},
   "outputs": [],
   "source": [
    "df_1 = df[['번호', '개방서비스명', '개방서비스아이디', '개방자치단체코드', '관리번호', '인허가일자', '인허가취소일자',\n",
    "       '영업상태구분코드', '영업상태명', '상세영업상태코드', '상세영업상태명', '폐업일자', '휴업시작일자', '휴업종료일자',\n",
    "       '재개업일자', '소재지전화', '시설규모', '소재지우편번호', '소재지전체주소', '도로명전체주소', '도로명우편번호',\n",
    "       '사업장명', '최종수정시점', '데이터갱신구분', '데이터갱신일자', '업태구분명', '좌표정보(X)', '좌표정보(Y)', '총층수',\n",
    "       '지상층수', '지하층수', '객실수', '좌석수']]"
   ]
  },
  {
   "cell_type": "code",
   "execution_count": 16,
   "id": "d86b23b7",
   "metadata": {
    "scrolled": true
   },
   "outputs": [
    {
     "data": {
      "text/html": [
       "<div>\n",
       "<style scoped>\n",
       "    .dataframe tbody tr th:only-of-type {\n",
       "        vertical-align: middle;\n",
       "    }\n",
       "\n",
       "    .dataframe tbody tr th {\n",
       "        vertical-align: top;\n",
       "    }\n",
       "\n",
       "    .dataframe thead th {\n",
       "        text-align: right;\n",
       "    }\n",
       "</style>\n",
       "<table border=\"1\" class=\"dataframe\">\n",
       "  <thead>\n",
       "    <tr style=\"text-align: right;\">\n",
       "      <th></th>\n",
       "      <th>번호</th>\n",
       "      <th>개방서비스명</th>\n",
       "      <th>개방서비스아이디</th>\n",
       "      <th>개방자치단체코드</th>\n",
       "      <th>관리번호</th>\n",
       "      <th>인허가일자</th>\n",
       "      <th>인허가취소일자</th>\n",
       "      <th>영업상태구분코드</th>\n",
       "      <th>영업상태명</th>\n",
       "      <th>상세영업상태코드</th>\n",
       "      <th>...</th>\n",
       "      <th>데이터갱신구분</th>\n",
       "      <th>데이터갱신일자</th>\n",
       "      <th>업태구분명</th>\n",
       "      <th>좌표정보(X)</th>\n",
       "      <th>좌표정보(Y)</th>\n",
       "      <th>총층수</th>\n",
       "      <th>지상층수</th>\n",
       "      <th>지하층수</th>\n",
       "      <th>객실수</th>\n",
       "      <th>좌석수</th>\n",
       "    </tr>\n",
       "  </thead>\n",
       "  <tbody>\n",
       "    <tr>\n",
       "      <th>0</th>\n",
       "      <td>1</td>\n",
       "      <td>관광숙박업</td>\n",
       "      <td>03_11_01_P</td>\n",
       "      <td>3000000</td>\n",
       "      <td>CDFI2260032020000001</td>\n",
       "      <td>20201023</td>\n",
       "      <td>NaN</td>\n",
       "      <td>1</td>\n",
       "      <td>영업/정상</td>\n",
       "      <td>13</td>\n",
       "      <td>...</td>\n",
       "      <td>U</td>\n",
       "      <td>2021-03-25 02:40:00.0</td>\n",
       "      <td>NaN</td>\n",
       "      <td>201643.277883</td>\n",
       "      <td>452339.843126</td>\n",
       "      <td>11.0</td>\n",
       "      <td>9.0</td>\n",
       "      <td>2.0</td>\n",
       "      <td>100.0</td>\n",
       "      <td>NaN</td>\n",
       "    </tr>\n",
       "    <tr>\n",
       "      <th>1</th>\n",
       "      <td>2</td>\n",
       "      <td>관광숙박업</td>\n",
       "      <td>03_11_01_P</td>\n",
       "      <td>3000000</td>\n",
       "      <td>CDFI2260032018000003</td>\n",
       "      <td>20180618</td>\n",
       "      <td>NaN</td>\n",
       "      <td>3</td>\n",
       "      <td>폐업</td>\n",
       "      <td>3</td>\n",
       "      <td>...</td>\n",
       "      <td>U</td>\n",
       "      <td>2020-10-18 02:40:00.0</td>\n",
       "      <td>NaN</td>\n",
       "      <td>199003.460155</td>\n",
       "      <td>452574.992954</td>\n",
       "      <td>5.0</td>\n",
       "      <td>5.0</td>\n",
       "      <td>NaN</td>\n",
       "      <td>8.0</td>\n",
       "      <td>NaN</td>\n",
       "    </tr>\n",
       "    <tr>\n",
       "      <th>2</th>\n",
       "      <td>3</td>\n",
       "      <td>관광숙박업</td>\n",
       "      <td>03_11_01_P</td>\n",
       "      <td>3000000</td>\n",
       "      <td>CDFI2260032019000003</td>\n",
       "      <td>20191029</td>\n",
       "      <td>NaN</td>\n",
       "      <td>1</td>\n",
       "      <td>영업/정상</td>\n",
       "      <td>13</td>\n",
       "      <td>...</td>\n",
       "      <td>U</td>\n",
       "      <td>2021-03-25 02:40:00.0</td>\n",
       "      <td>NaN</td>\n",
       "      <td>198988.983646</td>\n",
       "      <td>452223.097221</td>\n",
       "      <td>19.0</td>\n",
       "      <td>16.0</td>\n",
       "      <td>3.0</td>\n",
       "      <td>140.0</td>\n",
       "      <td>NaN</td>\n",
       "    </tr>\n",
       "    <tr>\n",
       "      <th>3</th>\n",
       "      <td>4</td>\n",
       "      <td>관광숙박업</td>\n",
       "      <td>03_11_01_P</td>\n",
       "      <td>3000000</td>\n",
       "      <td>CDFI2260032019000002</td>\n",
       "      <td>20191018</td>\n",
       "      <td>NaN</td>\n",
       "      <td>1</td>\n",
       "      <td>영업/정상</td>\n",
       "      <td>13</td>\n",
       "      <td>...</td>\n",
       "      <td>U</td>\n",
       "      <td>2021-03-25 02:40:00.0</td>\n",
       "      <td>NaN</td>\n",
       "      <td>200280.218940</td>\n",
       "      <td>452611.575937</td>\n",
       "      <td>15.0</td>\n",
       "      <td>13.0</td>\n",
       "      <td>2.0</td>\n",
       "      <td>54.0</td>\n",
       "      <td>NaN</td>\n",
       "    </tr>\n",
       "    <tr>\n",
       "      <th>4</th>\n",
       "      <td>5</td>\n",
       "      <td>관광숙박업</td>\n",
       "      <td>03_11_01_P</td>\n",
       "      <td>3000000</td>\n",
       "      <td>CDFI2260032019000001</td>\n",
       "      <td>20191002</td>\n",
       "      <td>NaN</td>\n",
       "      <td>1</td>\n",
       "      <td>영업/정상</td>\n",
       "      <td>13</td>\n",
       "      <td>...</td>\n",
       "      <td>U</td>\n",
       "      <td>2021-03-25 02:40:00.0</td>\n",
       "      <td>NaN</td>\n",
       "      <td>198498.918633</td>\n",
       "      <td>452473.403750</td>\n",
       "      <td>17.0</td>\n",
       "      <td>13.0</td>\n",
       "      <td>4.0</td>\n",
       "      <td>301.0</td>\n",
       "      <td>NaN</td>\n",
       "    </tr>\n",
       "  </tbody>\n",
       "</table>\n",
       "<p>5 rows × 33 columns</p>\n",
       "</div>"
      ],
      "text/plain": [
       "   번호 개방서비스명    개방서비스아이디  개방자치단체코드                  관리번호     인허가일자  인허가취소일자  \\\n",
       "0   1  관광숙박업  03_11_01_P   3000000  CDFI2260032020000001  20201023      NaN   \n",
       "1   2  관광숙박업  03_11_01_P   3000000  CDFI2260032018000003  20180618      NaN   \n",
       "2   3  관광숙박업  03_11_01_P   3000000  CDFI2260032019000003  20191029      NaN   \n",
       "3   4  관광숙박업  03_11_01_P   3000000  CDFI2260032019000002  20191018      NaN   \n",
       "4   5  관광숙박업  03_11_01_P   3000000  CDFI2260032019000001  20191002      NaN   \n",
       "\n",
       "   영업상태구분코드  영업상태명  상세영업상태코드  ... 데이터갱신구분                데이터갱신일자  업태구분명  \\\n",
       "0         1  영업/정상        13  ...       U  2021-03-25 02:40:00.0    NaN   \n",
       "1         3     폐업         3  ...       U  2020-10-18 02:40:00.0    NaN   \n",
       "2         1  영업/정상        13  ...       U  2021-03-25 02:40:00.0    NaN   \n",
       "3         1  영업/정상        13  ...       U  2021-03-25 02:40:00.0    NaN   \n",
       "4         1  영업/정상        13  ...       U  2021-03-25 02:40:00.0    NaN   \n",
       "\n",
       "         좌표정보(X)        좌표정보(Y)   총층수  지상층수  지하층수    객실수 좌석수  \n",
       "0  201643.277883  452339.843126  11.0   9.0   2.0  100.0 NaN  \n",
       "1  199003.460155  452574.992954   5.0   5.0   NaN    8.0 NaN  \n",
       "2  198988.983646  452223.097221  19.0  16.0   3.0  140.0 NaN  \n",
       "3  200280.218940  452611.575937  15.0  13.0   2.0   54.0 NaN  \n",
       "4  198498.918633  452473.403750  17.0  13.0   4.0  301.0 NaN  \n",
       "\n",
       "[5 rows x 33 columns]"
      ]
     },
     "execution_count": 16,
     "metadata": {},
     "output_type": "execute_result"
    }
   ],
   "source": [
    "df_1.head()"
   ]
  },
  {
   "cell_type": "code",
   "execution_count": 17,
   "id": "a0bdbbd5",
   "metadata": {
    "scrolled": true
   },
   "outputs": [
    {
     "data": {
      "text/plain": [
       "(63803, 33)"
      ]
     },
     "execution_count": 17,
     "metadata": {},
     "output_type": "execute_result"
    }
   ],
   "source": [
    "# df_1 형태확인\n",
    "df_1.shape"
   ]
  },
  {
   "cell_type": "code",
   "execution_count": 18,
   "id": "1313d161",
   "metadata": {
    "scrolled": true
   },
   "outputs": [
    {
     "data": {
      "text/plain": [
       "인허가취소일자    63694\n",
       "폐업일자       39436\n",
       "휴업시작일자     63458\n",
       "휴업종료일자     63095\n",
       "재개업일자      63803\n",
       "소재지전화      13552\n",
       "시설규모       53495\n",
       "소재지우편번호    10407\n",
       "소재지전체주소       75\n",
       "도로명전체주소    13881\n",
       "도로명우편번호    16746\n",
       "업태구분명      13019\n",
       "좌표정보(X)     3429\n",
       "좌표정보(Y)     3429\n",
       "총층수        14397\n",
       "지상층수       11605\n",
       "지하층수       16943\n",
       "객실수         8190\n",
       "좌석수        21166\n",
       "dtype: int64"
      ]
     },
     "execution_count": 18,
     "metadata": {},
     "output_type": "execute_result"
    }
   ],
   "source": [
    "# df_1의 결측치 확인\n",
    "df_1.isnull().sum()[df_1.isnull().sum() != 0]"
   ]
  },
  {
   "cell_type": "markdown",
   "id": "a42a2bf2",
   "metadata": {},
   "source": [
    "## 불필요한 열 삭제\n",
    "- 같은 의미를 가진 열이나 데이터를 특정시키는 열 삭제"
   ]
  },
  {
   "cell_type": "code",
   "execution_count": 19,
   "id": "7d04e57f",
   "metadata": {},
   "outputs": [],
   "source": [
    "df_2 = df_1.drop(['좌석수', '재개업일자','번호', '개방서비스아이디', '개방자치단체코드', '관리번호', '상세영업상태명',\n",
    "                  '상세영업상태코드', '소재지전화', '소재지우편번호', '도로명전체주소', '도로명우편번호', '사업장명',\n",
    "                  '최종수정시점', '데이터갱신구분', '데이터갱신일자', '지하층수', '지상층수','업태구분명','시설규모',\n",
    "                  '인허가취소일자'],axis = 1)"
   ]
  },
  {
   "cell_type": "markdown",
   "id": "2b5602a2",
   "metadata": {},
   "source": [
    "#### 객실수와 총층수, 소재지전체주소, 좌표정보(X) 결측치 제거 및 영업상태명이 영업/정상, 폐업, 휴업인 경우만 남김\n",
    "- 좌표정보(X)가 결측치인 경우 좌표정보(Y) 또한 결측치이므로 좌표정보(X) 결측치만 삭제"
   ]
  },
  {
   "cell_type": "code",
   "execution_count": 20,
   "id": "73427f27",
   "metadata": {
    "scrolled": true
   },
   "outputs": [],
   "source": [
    "df_2_1 = df_2[df_2['객실수'].notnull()]\n",
    "df_2_1 = df_2_1[df_2_1['총층수'].notnull()]\n",
    "df_2_1 = df_2_1[df_2_1['소재지전체주소'].notnull()]\n",
    "df_2_1 = df_2_1[df_2_1['좌표정보(X)'].notnull()]\n",
    "df_2_1 = df_2_1[df_2_1['영업상태명'] != '취소/말소/만료/정지/중지']\n",
    "\n",
    "# 결측치 삭제 후 인덱스 재설정\n",
    "df_2_1.reset_index(drop=True,inplace = True)"
   ]
  },
  {
   "cell_type": "code",
   "execution_count": 21,
   "id": "c671559c",
   "metadata": {
    "scrolled": true
   },
   "outputs": [
    {
     "data": {
      "text/html": [
       "<div>\n",
       "<style scoped>\n",
       "    .dataframe tbody tr th:only-of-type {\n",
       "        vertical-align: middle;\n",
       "    }\n",
       "\n",
       "    .dataframe tbody tr th {\n",
       "        vertical-align: top;\n",
       "    }\n",
       "\n",
       "    .dataframe thead th {\n",
       "        text-align: right;\n",
       "    }\n",
       "</style>\n",
       "<table border=\"1\" class=\"dataframe\">\n",
       "  <thead>\n",
       "    <tr style=\"text-align: right;\">\n",
       "      <th></th>\n",
       "      <th>개방서비스명</th>\n",
       "      <th>인허가일자</th>\n",
       "      <th>영업상태구분코드</th>\n",
       "      <th>영업상태명</th>\n",
       "      <th>폐업일자</th>\n",
       "      <th>휴업시작일자</th>\n",
       "      <th>휴업종료일자</th>\n",
       "      <th>소재지전체주소</th>\n",
       "      <th>좌표정보(X)</th>\n",
       "      <th>좌표정보(Y)</th>\n",
       "      <th>총층수</th>\n",
       "      <th>객실수</th>\n",
       "    </tr>\n",
       "  </thead>\n",
       "  <tbody>\n",
       "    <tr>\n",
       "      <th>0</th>\n",
       "      <td>관광숙박업</td>\n",
       "      <td>20201023</td>\n",
       "      <td>1</td>\n",
       "      <td>영업/정상</td>\n",
       "      <td>NaN</td>\n",
       "      <td>NaN</td>\n",
       "      <td>NaN</td>\n",
       "      <td>서울특별시 종로구 숭인동 217-19</td>\n",
       "      <td>201643.277883</td>\n",
       "      <td>452339.843126</td>\n",
       "      <td>11.0</td>\n",
       "      <td>100.0</td>\n",
       "    </tr>\n",
       "    <tr>\n",
       "      <th>1</th>\n",
       "      <td>관광숙박업</td>\n",
       "      <td>20180618</td>\n",
       "      <td>3</td>\n",
       "      <td>폐업</td>\n",
       "      <td>20201008.0</td>\n",
       "      <td>NaN</td>\n",
       "      <td>NaN</td>\n",
       "      <td>서울특별시 종로구 익선동 24</td>\n",
       "      <td>199003.460155</td>\n",
       "      <td>452574.992954</td>\n",
       "      <td>5.0</td>\n",
       "      <td>8.0</td>\n",
       "    </tr>\n",
       "    <tr>\n",
       "      <th>2</th>\n",
       "      <td>관광숙박업</td>\n",
       "      <td>20191029</td>\n",
       "      <td>1</td>\n",
       "      <td>영업/정상</td>\n",
       "      <td>NaN</td>\n",
       "      <td>NaN</td>\n",
       "      <td>NaN</td>\n",
       "      <td>서울특별시 종로구 낙원동 134-2</td>\n",
       "      <td>198988.983646</td>\n",
       "      <td>452223.097221</td>\n",
       "      <td>19.0</td>\n",
       "      <td>140.0</td>\n",
       "    </tr>\n",
       "    <tr>\n",
       "      <th>3</th>\n",
       "      <td>관광숙박업</td>\n",
       "      <td>20191018</td>\n",
       "      <td>1</td>\n",
       "      <td>영업/정상</td>\n",
       "      <td>NaN</td>\n",
       "      <td>NaN</td>\n",
       "      <td>NaN</td>\n",
       "      <td>서울특별시 종로구 이화동 105-2 glue hotel</td>\n",
       "      <td>200280.218940</td>\n",
       "      <td>452611.575937</td>\n",
       "      <td>15.0</td>\n",
       "      <td>54.0</td>\n",
       "    </tr>\n",
       "    <tr>\n",
       "      <th>4</th>\n",
       "      <td>관광숙박업</td>\n",
       "      <td>20191002</td>\n",
       "      <td>1</td>\n",
       "      <td>영업/정상</td>\n",
       "      <td>NaN</td>\n",
       "      <td>NaN</td>\n",
       "      <td>NaN</td>\n",
       "      <td>서울특별시 종로구 관훈동 155-2</td>\n",
       "      <td>198498.918633</td>\n",
       "      <td>452473.403750</td>\n",
       "      <td>17.0</td>\n",
       "      <td>301.0</td>\n",
       "    </tr>\n",
       "  </tbody>\n",
       "</table>\n",
       "</div>"
      ],
      "text/plain": [
       "  개방서비스명     인허가일자  영업상태구분코드  영업상태명        폐업일자  휴업시작일자  휴업종료일자  \\\n",
       "0  관광숙박업  20201023         1  영업/정상         NaN     NaN     NaN   \n",
       "1  관광숙박업  20180618         3     폐업  20201008.0     NaN     NaN   \n",
       "2  관광숙박업  20191029         1  영업/정상         NaN     NaN     NaN   \n",
       "3  관광숙박업  20191018         1  영업/정상         NaN     NaN     NaN   \n",
       "4  관광숙박업  20191002         1  영업/정상         NaN     NaN     NaN   \n",
       "\n",
       "                           소재지전체주소        좌표정보(X)        좌표정보(Y)   총층수    객실수  \n",
       "0            서울특별시 종로구 숭인동 217-19   201643.277883  452339.843126  11.0  100.0  \n",
       "1                서울특별시 종로구 익선동 24   199003.460155  452574.992954   5.0    8.0  \n",
       "2             서울특별시 종로구 낙원동 134-2   198988.983646  452223.097221  19.0  140.0  \n",
       "3  서울특별시 종로구 이화동 105-2 glue hotel   200280.218940  452611.575937  15.0   54.0  \n",
       "4             서울특별시 종로구 관훈동 155-2   198498.918633  452473.403750  17.0  301.0  "
      ]
     },
     "execution_count": 21,
     "metadata": {},
     "output_type": "execute_result"
    }
   ],
   "source": [
    "df_2_1.head()"
   ]
  },
  {
   "cell_type": "markdown",
   "id": "37f5c91a",
   "metadata": {},
   "source": [
    "## 좌표 정보에서 위도경도 추출\n",
    "- pyproj 사용하여 좌표정보서 위도 경도 추출, 좌표정보(X),(Y) 삭제 후 위도 경도 추가"
   ]
  },
  {
   "cell_type": "code",
   "execution_count": 22,
   "id": "f85c20df",
   "metadata": {},
   "outputs": [],
   "source": [
    "df1=df_2_1[['좌표정보(X)','좌표정보(Y)']]\n",
    "df1=df1.dropna()"
   ]
  },
  {
   "cell_type": "code",
   "execution_count": 23,
   "id": "72c994f4",
   "metadata": {},
   "outputs": [],
   "source": [
    "def project_array(coord, p1_type, p2_type):\n",
    "    p1=pyproj.Proj(init=p1_type)\n",
    "    p2=pyproj.Proj(init=p2_type)\n",
    "    fx,fy=pyproj.transform(p1,p2, coord[:,0],coord[:,1])\n",
    "    return np.dstack([fx,fy])[0]"
   ]
  },
  {
   "cell_type": "code",
   "execution_count": 24,
   "id": "2d0e96e4",
   "metadata": {
    "scrolled": true
   },
   "outputs": [
    {
     "data": {
      "text/plain": [
       "array([[201643.27788272, 452339.84312565],\n",
       "       [199003.46015545, 452574.99295403],\n",
       "       [198988.98364622, 452223.09722107],\n",
       "       ...,\n",
       "       [145722.769211  , -26932.4457345 ],\n",
       "       [149615.103624  , -20459.4319628 ],\n",
       "       [130554.856204  , -31335.0712953 ]])"
      ]
     },
     "execution_count": 24,
     "metadata": {},
     "output_type": "execute_result"
    }
   ],
   "source": [
    "coord=np.array(df1)\n",
    "coord"
   ]
  },
  {
   "cell_type": "code",
   "execution_count": 25,
   "id": "92298150",
   "metadata": {},
   "outputs": [],
   "source": [
    "p1_type='epsg:2097'\n",
    "p2_type='epsg:4326'"
   ]
  },
  {
   "cell_type": "code",
   "execution_count": 26,
   "id": "2aff0284",
   "metadata": {
    "scrolled": false
   },
   "outputs": [
    {
     "name": "stderr",
     "output_type": "stream",
     "text": [
      "C:\\ProgramData\\Anaconda3\\lib\\site-packages\\pyproj\\crs\\crs.py:131: FutureWarning: '+init=<authority>:<code>' syntax is deprecated. '<authority>:<code>' is the preferred initialization method. When making the change, be mindful of axis order changes: https://pyproj4.github.io/pyproj/stable/gotchas.html#axis-order-changes-in-proj-6\n",
      "  in_crs_string = _prepare_from_proj_string(in_crs_string)\n",
      "C:\\ProgramData\\Anaconda3\\lib\\site-packages\\pyproj\\crs\\crs.py:131: FutureWarning: '+init=<authority>:<code>' syntax is deprecated. '<authority>:<code>' is the preferred initialization method. When making the change, be mindful of axis order changes: https://pyproj4.github.io/pyproj/stable/gotchas.html#axis-order-changes-in-proj-6\n",
      "  in_crs_string = _prepare_from_proj_string(in_crs_string)\n",
      "C:\\Users\\sgvin\\AppData\\Local\\Temp/ipykernel_31888/668960070.py:4: DeprecationWarning: This function is deprecated. See: https://pyproj4.github.io/pyproj/stable/gotchas.html#upgrading-to-pyproj-2-from-pyproj-1\n",
      "  fx,fy=pyproj.transform(p1,p2, coord[:,0],coord[:,1])\n"
     ]
    },
    {
     "data": {
      "text/plain": [
       "array([[127.01649963,  37.57334837],\n",
       "       [126.98661668,  37.57546778],\n",
       "       [126.98645332,  37.57229723],\n",
       "       ...,\n",
       "       [126.41547956,  33.2522315 ],\n",
       "       [126.45688649,  33.31078044],\n",
       "       [126.25305926,  33.21166964]])"
      ]
     },
     "execution_count": 26,
     "metadata": {},
     "output_type": "execute_result"
    }
   ],
   "source": [
    "result=project_array(coord,p1_type,p2_type)\n",
    "result"
   ]
  },
  {
   "cell_type": "code",
   "execution_count": 27,
   "id": "0fd80d94",
   "metadata": {},
   "outputs": [],
   "source": [
    "df1['경도'] = result[:,0]\n",
    "df1['위도'] = result[:,1]"
   ]
  },
  {
   "cell_type": "code",
   "execution_count": 28,
   "id": "d2f33d12",
   "metadata": {},
   "outputs": [],
   "source": [
    "df_2_2 = df1.drop(['좌표정보(X)','좌표정보(Y)'],axis=1)"
   ]
  },
  {
   "cell_type": "code",
   "execution_count": 29,
   "id": "36644b6a",
   "metadata": {},
   "outputs": [],
   "source": [
    "df_2_1 = df_2_1.drop(columns=['좌표정보(X)','좌표정보(Y)'])"
   ]
  },
  {
   "cell_type": "code",
   "execution_count": 30,
   "id": "c6aecef3",
   "metadata": {},
   "outputs": [],
   "source": [
    "df_2_2 = pd.concat([df_2_1,df_2_2],axis=1)"
   ]
  },
  {
   "cell_type": "code",
   "execution_count": 31,
   "id": "0cd0b501",
   "metadata": {
    "scrolled": false
   },
   "outputs": [
    {
     "data": {
      "text/html": [
       "<div>\n",
       "<style scoped>\n",
       "    .dataframe tbody tr th:only-of-type {\n",
       "        vertical-align: middle;\n",
       "    }\n",
       "\n",
       "    .dataframe tbody tr th {\n",
       "        vertical-align: top;\n",
       "    }\n",
       "\n",
       "    .dataframe thead th {\n",
       "        text-align: right;\n",
       "    }\n",
       "</style>\n",
       "<table border=\"1\" class=\"dataframe\">\n",
       "  <thead>\n",
       "    <tr style=\"text-align: right;\">\n",
       "      <th></th>\n",
       "      <th>개방서비스명</th>\n",
       "      <th>인허가일자</th>\n",
       "      <th>영업상태구분코드</th>\n",
       "      <th>영업상태명</th>\n",
       "      <th>폐업일자</th>\n",
       "      <th>휴업시작일자</th>\n",
       "      <th>휴업종료일자</th>\n",
       "      <th>소재지전체주소</th>\n",
       "      <th>총층수</th>\n",
       "      <th>객실수</th>\n",
       "      <th>경도</th>\n",
       "      <th>위도</th>\n",
       "    </tr>\n",
       "  </thead>\n",
       "  <tbody>\n",
       "    <tr>\n",
       "      <th>0</th>\n",
       "      <td>관광숙박업</td>\n",
       "      <td>20201023</td>\n",
       "      <td>1</td>\n",
       "      <td>영업/정상</td>\n",
       "      <td>NaN</td>\n",
       "      <td>NaN</td>\n",
       "      <td>NaN</td>\n",
       "      <td>서울특별시 종로구 숭인동 217-19</td>\n",
       "      <td>11.0</td>\n",
       "      <td>100.0</td>\n",
       "      <td>127.016500</td>\n",
       "      <td>37.573348</td>\n",
       "    </tr>\n",
       "    <tr>\n",
       "      <th>1</th>\n",
       "      <td>관광숙박업</td>\n",
       "      <td>20180618</td>\n",
       "      <td>3</td>\n",
       "      <td>폐업</td>\n",
       "      <td>20201008.0</td>\n",
       "      <td>NaN</td>\n",
       "      <td>NaN</td>\n",
       "      <td>서울특별시 종로구 익선동 24</td>\n",
       "      <td>5.0</td>\n",
       "      <td>8.0</td>\n",
       "      <td>126.986617</td>\n",
       "      <td>37.575468</td>\n",
       "    </tr>\n",
       "    <tr>\n",
       "      <th>2</th>\n",
       "      <td>관광숙박업</td>\n",
       "      <td>20191029</td>\n",
       "      <td>1</td>\n",
       "      <td>영업/정상</td>\n",
       "      <td>NaN</td>\n",
       "      <td>NaN</td>\n",
       "      <td>NaN</td>\n",
       "      <td>서울특별시 종로구 낙원동 134-2</td>\n",
       "      <td>19.0</td>\n",
       "      <td>140.0</td>\n",
       "      <td>126.986453</td>\n",
       "      <td>37.572297</td>\n",
       "    </tr>\n",
       "    <tr>\n",
       "      <th>3</th>\n",
       "      <td>관광숙박업</td>\n",
       "      <td>20191018</td>\n",
       "      <td>1</td>\n",
       "      <td>영업/정상</td>\n",
       "      <td>NaN</td>\n",
       "      <td>NaN</td>\n",
       "      <td>NaN</td>\n",
       "      <td>서울특별시 종로구 이화동 105-2 glue hotel</td>\n",
       "      <td>15.0</td>\n",
       "      <td>54.0</td>\n",
       "      <td>127.001070</td>\n",
       "      <td>37.575798</td>\n",
       "    </tr>\n",
       "    <tr>\n",
       "      <th>4</th>\n",
       "      <td>관광숙박업</td>\n",
       "      <td>20191002</td>\n",
       "      <td>1</td>\n",
       "      <td>영업/정상</td>\n",
       "      <td>NaN</td>\n",
       "      <td>NaN</td>\n",
       "      <td>NaN</td>\n",
       "      <td>서울특별시 종로구 관훈동 155-2</td>\n",
       "      <td>17.0</td>\n",
       "      <td>301.0</td>\n",
       "      <td>126.980905</td>\n",
       "      <td>37.574552</td>\n",
       "    </tr>\n",
       "  </tbody>\n",
       "</table>\n",
       "</div>"
      ],
      "text/plain": [
       "  개방서비스명     인허가일자  영업상태구분코드  영업상태명        폐업일자  휴업시작일자  휴업종료일자  \\\n",
       "0  관광숙박업  20201023         1  영업/정상         NaN     NaN     NaN   \n",
       "1  관광숙박업  20180618         3     폐업  20201008.0     NaN     NaN   \n",
       "2  관광숙박업  20191029         1  영업/정상         NaN     NaN     NaN   \n",
       "3  관광숙박업  20191018         1  영업/정상         NaN     NaN     NaN   \n",
       "4  관광숙박업  20191002         1  영업/정상         NaN     NaN     NaN   \n",
       "\n",
       "                           소재지전체주소   총층수    객실수          경도         위도  \n",
       "0            서울특별시 종로구 숭인동 217-19   11.0  100.0  127.016500  37.573348  \n",
       "1                서울특별시 종로구 익선동 24    5.0    8.0  126.986617  37.575468  \n",
       "2             서울특별시 종로구 낙원동 134-2   19.0  140.0  126.986453  37.572297  \n",
       "3  서울특별시 종로구 이화동 105-2 glue hotel   15.0   54.0  127.001070  37.575798  \n",
       "4             서울특별시 종로구 관훈동 155-2   17.0  301.0  126.980905  37.574552  "
      ]
     },
     "execution_count": 31,
     "metadata": {},
     "output_type": "execute_result"
    }
   ],
   "source": [
    "df_2_2.head()"
   ]
  },
  {
   "cell_type": "markdown",
   "id": "b8559b53",
   "metadata": {},
   "source": [
    "### 객실수 이상치 제거"
   ]
  },
  {
   "cell_type": "code",
   "execution_count": 33,
   "id": "39c2acf8",
   "metadata": {},
   "outputs": [],
   "source": [
    "def removeOutliers(x, column):\n",
    "    q1 = x[column].quantile(0.25)\n",
    "    q3 = x[column].quantile(0.75)\n",
    "    \n",
    "    iqr = 3 * (q3 - q1) # 3* IQR(Q3 - Q1)\n",
    "    \n",
    "    y=x[(x[column] < (q3 + iqr)) & (x[column] > (q1 - iqr))]  # 이상치를 제거\n",
    "    return(y)"
   ]
  },
  {
   "cell_type": "code",
   "execution_count": 34,
   "id": "f452d97f",
   "metadata": {},
   "outputs": [],
   "source": [
    "df_2_2 = removeOutliers(df_2_2, '객실수')"
   ]
  },
  {
   "cell_type": "code",
   "execution_count": 35,
   "id": "61bc3dbd",
   "metadata": {
    "scrolled": false
   },
   "outputs": [
    {
     "data": {
      "text/plain": [
       "개방서비스명          0\n",
       "인허가일자           0\n",
       "영업상태구분코드        0\n",
       "영업상태명           0\n",
       "폐업일자        31175\n",
       "휴업시작일자      42628\n",
       "휴업종료일자      42626\n",
       "소재지전체주소         0\n",
       "총층수             0\n",
       "객실수             0\n",
       "경도              0\n",
       "위도              0\n",
       "dtype: int64"
      ]
     },
     "execution_count": 35,
     "metadata": {},
     "output_type": "execute_result"
    }
   ],
   "source": [
    "df_2_2.isnull().sum()"
   ]
  },
  {
   "cell_type": "markdown",
   "id": "701ffc50",
   "metadata": {},
   "source": [
    "## 소재지전체주소에서 시/도 추출"
   ]
  },
  {
   "cell_type": "code",
   "execution_count": 36,
   "id": "a31664e3",
   "metadata": {
    "scrolled": false
   },
   "outputs": [
    {
     "data": {
      "text/plain": [
       "1                        [서울특별시, 종로구, 익선동, 24]\n",
       "3        [서울특별시, 종로구, 이화동, 105-2, glue, hotel]\n",
       "5            [서울특별시, 종로구, 관훈동, 198-11, 호텔, 썬비]\n",
       "6                      [서울특별시, 종로구, 숭인동, 1405]\n",
       "7                     [서울특별시, 종로구, 창신동, 444-9]\n",
       "                         ...                  \n",
       "44242         [제주특별자치도, 서귀포시, 안덕면, 동광리, 976번지]\n",
       "44243              [제주특별자치도, 서귀포시, 보목동, 526번지]\n",
       "44244             [제주특별자치도, 서귀포시, 중문동, 2232번지]\n",
       "44245           [제주특별자치도, 서귀포시, 대포동, 산, 1-8번지]\n",
       "44246         [제주특별자치도, 서귀포시, 대정읍, 하모리, 648-2]\n",
       "Name: 소재지전체주소, Length: 42723, dtype: object"
      ]
     },
     "execution_count": 36,
     "metadata": {},
     "output_type": "execute_result"
    }
   ],
   "source": [
    "address = df_2_2['소재지전체주소'].apply(lambda x: str(x).split())\n",
    "address"
   ]
  },
  {
   "cell_type": "code",
   "execution_count": 37,
   "id": "2c0d1f19",
   "metadata": {},
   "outputs": [],
   "source": [
    "def address(x):\n",
    "    for i in range(0,len(df_2_2)):\n",
    "        return str(x).split()[i]"
   ]
  },
  {
   "cell_type": "code",
   "execution_count": 38,
   "id": "d83f7b7d",
   "metadata": {
    "scrolled": true
   },
   "outputs": [
    {
     "name": "stderr",
     "output_type": "stream",
     "text": [
      "C:\\Users\\sgvin\\AppData\\Local\\Temp/ipykernel_31888/1295009749.py:1: SettingWithCopyWarning: \n",
      "A value is trying to be set on a copy of a slice from a DataFrame.\n",
      "Try using .loc[row_indexer,col_indexer] = value instead\n",
      "\n",
      "See the caveats in the documentation: https://pandas.pydata.org/pandas-docs/stable/user_guide/indexing.html#returning-a-view-versus-a-copy\n",
      "  df_2_2['지역'] = df_2_2['소재지전체주소'].apply(address)\n"
     ]
    }
   ],
   "source": [
    "df_2_2['지역'] = df_2_2['소재지전체주소'].apply(address)"
   ]
  },
  {
   "cell_type": "code",
   "execution_count": 39,
   "id": "df01bf9a",
   "metadata": {},
   "outputs": [],
   "source": [
    "df_2_2 = df_2_2.drop(['소재지전체주소'], axis=1)"
   ]
  },
  {
   "cell_type": "code",
   "execution_count": 40,
   "id": "d3e61358",
   "metadata": {
    "scrolled": true
   },
   "outputs": [
    {
     "data": {
      "text/plain": [
       "array(['서울특별시', '부산광역시', '대구광역시', '인천광역시', '광주광역시', '대전광역시', '울산광역시',\n",
       "       '경기도', '강원도', '충청북도', '충청남도', '전라북도', '전라남도', '경상북도', '경상남도',\n",
       "       '제주특별자치도', '세종특별자치시'], dtype=object)"
      ]
     },
     "execution_count": 40,
     "metadata": {},
     "output_type": "execute_result"
    }
   ],
   "source": [
    "df_2_2['지역'].unique()"
   ]
  },
  {
   "cell_type": "code",
   "execution_count": 41,
   "id": "c1219d1b",
   "metadata": {},
   "outputs": [],
   "source": [
    "df_2_2.reset_index(drop=True,inplace = True)"
   ]
  },
  {
   "cell_type": "markdown",
   "id": "f8bf903e",
   "metadata": {},
   "source": [
    "## 가장 가까운 KTX정차역과의 거리 s_distance 생성\n",
    "- KTX정차역 이름과 주소를 수집하여 station 엑셀 파일 생성 후 지오코딩으로 위치좌표 생성\n",
    "- haversine 패키지를 사용하여 모든 역과의 거리를 구한 후 가장 짧은 거리를 s_distance로 생성해줌"
   ]
  },
  {
   "cell_type": "code",
   "execution_count": 42,
   "id": "f0756eb6",
   "metadata": {},
   "outputs": [],
   "source": [
    "station =  pd.read_excel('C:/Users/sgvin/Desktop/개인2/대학/동아리/경진대회/2022 동계 경진대회/데이터셋/station.xlsx')"
   ]
  },
  {
   "cell_type": "code",
   "execution_count": 43,
   "id": "a11dc526",
   "metadata": {},
   "outputs": [
    {
     "data": {
      "text/plain": [
       "(57, 7)"
      ]
     },
     "execution_count": 43,
     "metadata": {},
     "output_type": "execute_result"
    }
   ],
   "source": [
    "station.shape"
   ]
  },
  {
   "cell_type": "code",
   "execution_count": 44,
   "id": "1d09f802",
   "metadata": {
    "scrolled": true
   },
   "outputs": [
    {
     "data": {
      "text/plain": [
       "Unnamed: 0    0\n",
       "번호            0\n",
       "역명            0\n",
       "노선            0\n",
       "주소            0\n",
       "X             0\n",
       "Y             0\n",
       "dtype: int64"
      ]
     },
     "execution_count": 44,
     "metadata": {},
     "output_type": "execute_result"
    }
   ],
   "source": [
    "station.isnull().sum()"
   ]
  },
  {
   "cell_type": "code",
   "execution_count": 45,
   "id": "e1ee95a9",
   "metadata": {},
   "outputs": [
    {
     "name": "stdout",
     "output_type": "stream",
     "text": [
      "126.9710639\n",
      "127.0010699505932\n"
     ]
    }
   ],
   "source": [
    "print(station['X'][0])\n",
    "print(df_2_2['경도'][1])"
   ]
  },
  {
   "cell_type": "code",
   "execution_count": 46,
   "id": "b4a12740",
   "metadata": {},
   "outputs": [],
   "source": [
    "newnew = []\n",
    "for i in range(0,len(df_2_2)):\n",
    "    distance = []\n",
    "    for j in range(0,len(station)):\n",
    "        distance.append(haversine((station['X'][j], station['Y'][j]), (df_2_2['경도'][i], df_2_2['위도'][i])))\n",
    "    s_distance = min(distance)\n",
    "    newnew.append(s_distance)"
   ]
  },
  {
   "cell_type": "code",
   "execution_count": 49,
   "id": "1fe06cf0",
   "metadata": {},
   "outputs": [
    {
     "data": {
      "text/plain": [
       "[2.3178777184077264,\n",
       " 3.6855982739623783,\n",
       " 1.8333917517425162,\n",
       " 3.2029465738447103,\n",
       " 4.213350237432624]"
      ]
     },
     "execution_count": 49,
     "metadata": {},
     "output_type": "execute_result"
    }
   ],
   "source": [
    "newnew[:5]"
   ]
  },
  {
   "cell_type": "code",
   "execution_count": 46,
   "id": "9a901fbe",
   "metadata": {},
   "outputs": [],
   "source": [
    "df_2_2['s_distance'] = pd.DataFrame(newnew)"
   ]
  },
  {
   "cell_type": "code",
   "execution_count": 47,
   "id": "29b29e4b",
   "metadata": {
    "scrolled": true
   },
   "outputs": [
    {
     "data": {
      "text/html": [
       "<div>\n",
       "<style scoped>\n",
       "    .dataframe tbody tr th:only-of-type {\n",
       "        vertical-align: middle;\n",
       "    }\n",
       "\n",
       "    .dataframe tbody tr th {\n",
       "        vertical-align: top;\n",
       "    }\n",
       "\n",
       "    .dataframe thead th {\n",
       "        text-align: right;\n",
       "    }\n",
       "</style>\n",
       "<table border=\"1\" class=\"dataframe\">\n",
       "  <thead>\n",
       "    <tr style=\"text-align: right;\">\n",
       "      <th></th>\n",
       "      <th>개방서비스명</th>\n",
       "      <th>인허가일자</th>\n",
       "      <th>영업상태구분코드</th>\n",
       "      <th>영업상태명</th>\n",
       "      <th>폐업일자</th>\n",
       "      <th>휴업시작일자</th>\n",
       "      <th>휴업종료일자</th>\n",
       "      <th>총층수</th>\n",
       "      <th>객실수</th>\n",
       "      <th>경도</th>\n",
       "      <th>위도</th>\n",
       "      <th>지역</th>\n",
       "      <th>s_distance</th>\n",
       "    </tr>\n",
       "  </thead>\n",
       "  <tbody>\n",
       "    <tr>\n",
       "      <th>0</th>\n",
       "      <td>관광숙박업</td>\n",
       "      <td>20180618</td>\n",
       "      <td>3</td>\n",
       "      <td>폐업</td>\n",
       "      <td>20201008.0</td>\n",
       "      <td>NaN</td>\n",
       "      <td>NaN</td>\n",
       "      <td>5.0</td>\n",
       "      <td>8.0</td>\n",
       "      <td>126.986617</td>\n",
       "      <td>37.575468</td>\n",
       "      <td>서울특별시</td>\n",
       "      <td>2.317878</td>\n",
       "    </tr>\n",
       "    <tr>\n",
       "      <th>1</th>\n",
       "      <td>관광숙박업</td>\n",
       "      <td>20191018</td>\n",
       "      <td>1</td>\n",
       "      <td>영업/정상</td>\n",
       "      <td>NaN</td>\n",
       "      <td>NaN</td>\n",
       "      <td>NaN</td>\n",
       "      <td>15.0</td>\n",
       "      <td>54.0</td>\n",
       "      <td>127.001070</td>\n",
       "      <td>37.575798</td>\n",
       "      <td>서울특별시</td>\n",
       "      <td>3.685598</td>\n",
       "    </tr>\n",
       "    <tr>\n",
       "      <th>2</th>\n",
       "      <td>관광숙박업</td>\n",
       "      <td>20180705</td>\n",
       "      <td>1</td>\n",
       "      <td>영업/정상</td>\n",
       "      <td>NaN</td>\n",
       "      <td>NaN</td>\n",
       "      <td>NaN</td>\n",
       "      <td>10.0</td>\n",
       "      <td>42.0</td>\n",
       "      <td>126.981901</td>\n",
       "      <td>37.573053</td>\n",
       "      <td>서울특별시</td>\n",
       "      <td>1.833392</td>\n",
       "    </tr>\n",
       "    <tr>\n",
       "      <th>3</th>\n",
       "      <td>관광숙박업</td>\n",
       "      <td>20180214</td>\n",
       "      <td>1</td>\n",
       "      <td>영업/정상</td>\n",
       "      <td>NaN</td>\n",
       "      <td>NaN</td>\n",
       "      <td>NaN</td>\n",
       "      <td>14.0</td>\n",
       "      <td>61.0</td>\n",
       "      <td>127.019354</td>\n",
       "      <td>37.573846</td>\n",
       "      <td>서울특별시</td>\n",
       "      <td>3.202947</td>\n",
       "    </tr>\n",
       "    <tr>\n",
       "      <th>4</th>\n",
       "      <td>관광숙박업</td>\n",
       "      <td>20140508</td>\n",
       "      <td>1</td>\n",
       "      <td>영업/정상</td>\n",
       "      <td>NaN</td>\n",
       "      <td>NaN</td>\n",
       "      <td>NaN</td>\n",
       "      <td>5.0</td>\n",
       "      <td>10.0</td>\n",
       "      <td>127.007328</td>\n",
       "      <td>37.570651</td>\n",
       "      <td>서울특별시</td>\n",
       "      <td>4.213350</td>\n",
       "    </tr>\n",
       "    <tr>\n",
       "      <th>...</th>\n",
       "      <td>...</td>\n",
       "      <td>...</td>\n",
       "      <td>...</td>\n",
       "      <td>...</td>\n",
       "      <td>...</td>\n",
       "      <td>...</td>\n",
       "      <td>...</td>\n",
       "      <td>...</td>\n",
       "      <td>...</td>\n",
       "      <td>...</td>\n",
       "      <td>...</td>\n",
       "      <td>...</td>\n",
       "      <td>...</td>\n",
       "    </tr>\n",
       "    <tr>\n",
       "      <th>42718</th>\n",
       "      <td>일반야영장업</td>\n",
       "      <td>20150625</td>\n",
       "      <td>1</td>\n",
       "      <td>영업/정상</td>\n",
       "      <td>NaN</td>\n",
       "      <td>NaN</td>\n",
       "      <td>NaN</td>\n",
       "      <td>0.0</td>\n",
       "      <td>0.0</td>\n",
       "      <td>126.334375</td>\n",
       "      <td>33.306181</td>\n",
       "      <td>제주특별자치도</td>\n",
       "      <td>98.233974</td>\n",
       "    </tr>\n",
       "    <tr>\n",
       "      <th>42719</th>\n",
       "      <td>일반야영장업</td>\n",
       "      <td>20150522</td>\n",
       "      <td>1</td>\n",
       "      <td>영업/정상</td>\n",
       "      <td>NaN</td>\n",
       "      <td>NaN</td>\n",
       "      <td>NaN</td>\n",
       "      <td>0.0</td>\n",
       "      <td>0.0</td>\n",
       "      <td>126.605475</td>\n",
       "      <td>33.240524</td>\n",
       "      <td>제주특별자치도</td>\n",
       "      <td>105.486503</td>\n",
       "    </tr>\n",
       "    <tr>\n",
       "      <th>42720</th>\n",
       "      <td>일반야영장업</td>\n",
       "      <td>20160509</td>\n",
       "      <td>1</td>\n",
       "      <td>영업/정상</td>\n",
       "      <td>NaN</td>\n",
       "      <td>NaN</td>\n",
       "      <td>NaN</td>\n",
       "      <td>0.0</td>\n",
       "      <td>0.0</td>\n",
       "      <td>126.415480</td>\n",
       "      <td>33.252231</td>\n",
       "      <td>제주특별자치도</td>\n",
       "      <td>101.743011</td>\n",
       "    </tr>\n",
       "    <tr>\n",
       "      <th>42721</th>\n",
       "      <td>일반야영장업</td>\n",
       "      <td>20150727</td>\n",
       "      <td>1</td>\n",
       "      <td>영업/정상</td>\n",
       "      <td>NaN</td>\n",
       "      <td>NaN</td>\n",
       "      <td>NaN</td>\n",
       "      <td>0.0</td>\n",
       "      <td>0.0</td>\n",
       "      <td>126.456886</td>\n",
       "      <td>33.310780</td>\n",
       "      <td>제주특별자치도</td>\n",
       "      <td>98.175725</td>\n",
       "    </tr>\n",
       "    <tr>\n",
       "      <th>42722</th>\n",
       "      <td>일반야영장업</td>\n",
       "      <td>20160610</td>\n",
       "      <td>3</td>\n",
       "      <td>폐업</td>\n",
       "      <td>20211122.0</td>\n",
       "      <td>NaN</td>\n",
       "      <td>NaN</td>\n",
       "      <td>0.0</td>\n",
       "      <td>0.0</td>\n",
       "      <td>126.253059</td>\n",
       "      <td>33.211670</td>\n",
       "      <td>제주특별자치도</td>\n",
       "      <td>105.266415</td>\n",
       "    </tr>\n",
       "  </tbody>\n",
       "</table>\n",
       "<p>42723 rows × 13 columns</p>\n",
       "</div>"
      ],
      "text/plain": [
       "       개방서비스명     인허가일자  영업상태구분코드  영업상태명        폐업일자  휴업시작일자  휴업종료일자   총층수  \\\n",
       "0       관광숙박업  20180618         3     폐업  20201008.0     NaN     NaN   5.0   \n",
       "1       관광숙박업  20191018         1  영업/정상         NaN     NaN     NaN  15.0   \n",
       "2       관광숙박업  20180705         1  영업/정상         NaN     NaN     NaN  10.0   \n",
       "3       관광숙박업  20180214         1  영업/정상         NaN     NaN     NaN  14.0   \n",
       "4       관광숙박업  20140508         1  영업/정상         NaN     NaN     NaN   5.0   \n",
       "...       ...       ...       ...    ...         ...     ...     ...   ...   \n",
       "42718  일반야영장업  20150625         1  영업/정상         NaN     NaN     NaN   0.0   \n",
       "42719  일반야영장업  20150522         1  영업/정상         NaN     NaN     NaN   0.0   \n",
       "42720  일반야영장업  20160509         1  영업/정상         NaN     NaN     NaN   0.0   \n",
       "42721  일반야영장업  20150727         1  영업/정상         NaN     NaN     NaN   0.0   \n",
       "42722  일반야영장업  20160610         3     폐업  20211122.0     NaN     NaN   0.0   \n",
       "\n",
       "        객실수          경도         위도       지역  s_distance  \n",
       "0       8.0  126.986617  37.575468    서울특별시    2.317878  \n",
       "1      54.0  127.001070  37.575798    서울특별시    3.685598  \n",
       "2      42.0  126.981901  37.573053    서울특별시    1.833392  \n",
       "3      61.0  127.019354  37.573846    서울특별시    3.202947  \n",
       "4      10.0  127.007328  37.570651    서울특별시    4.213350  \n",
       "...     ...         ...        ...      ...         ...  \n",
       "42718   0.0  126.334375  33.306181  제주특별자치도   98.233974  \n",
       "42719   0.0  126.605475  33.240524  제주특별자치도  105.486503  \n",
       "42720   0.0  126.415480  33.252231  제주특별자치도  101.743011  \n",
       "42721   0.0  126.456886  33.310780  제주특별자치도   98.175725  \n",
       "42722   0.0  126.253059  33.211670  제주특별자치도  105.266415  \n",
       "\n",
       "[42723 rows x 13 columns]"
      ]
     },
     "execution_count": 47,
     "metadata": {},
     "output_type": "execute_result"
    }
   ],
   "source": [
    "df_2_2"
   ]
  },
  {
   "cell_type": "code",
   "execution_count": 48,
   "id": "34f49122",
   "metadata": {},
   "outputs": [],
   "source": [
    "df_2_2.to_excel('제주도처리전_final.xlsx')"
   ]
  },
  {
   "cell_type": "markdown",
   "id": "8223803a",
   "metadata": {},
   "source": [
    "#### 제주도에는 기차역이 존재하지 않으므로 엑셀에서 지역이 제주도에 해당하는 행의 역과의 거리를 0으로 입력"
   ]
  },
  {
   "cell_type": "code",
   "execution_count": 49,
   "id": "6abe796f",
   "metadata": {},
   "outputs": [],
   "source": [
    "df_2_3 = pd.read_excel('제주도처리후_final.xlsx')"
   ]
  },
  {
   "cell_type": "markdown",
   "id": "5bf52baa",
   "metadata": {},
   "source": [
    "## 연도별 개폐업 현황을 파악하기 위하여 df2019 df2020 df2021 생성"
   ]
  },
  {
   "cell_type": "markdown",
   "id": "48055019",
   "metadata": {},
   "source": [
    "- 인허가일자를 기준으로 코로나 이전(~2019)/ 2020년 / 2021년의 데이터프레임 생성\n",
    "- 각 데이터프레임이 해당하는 기간에 정상 폐업 휴업인지 판별하여 각 년도에 따른 영업상태명 생성"
   ]
  },
  {
   "cell_type": "code",
   "execution_count": 50,
   "id": "72000365",
   "metadata": {
    "scrolled": true
   },
   "outputs": [
    {
     "data": {
      "text/plain": [
       "Unnamed: 0        0\n",
       "개방서비스명            0\n",
       "인허가일자             0\n",
       "영업상태구분코드          0\n",
       "영업상태명             0\n",
       "폐업일자          31175\n",
       "휴업시작일자        42628\n",
       "휴업종료일자        42626\n",
       "총층수               0\n",
       "객실수               0\n",
       "경도                0\n",
       "위도                0\n",
       "지역                0\n",
       "s_distance        0\n",
       "dtype: int64"
      ]
     },
     "execution_count": 50,
     "metadata": {},
     "output_type": "execute_result"
    }
   ],
   "source": [
    "df_2_3.isnull().sum()"
   ]
  },
  {
   "cell_type": "markdown",
   "id": "26492be4",
   "metadata": {},
   "source": [
    "#### 폐업일자와 휴업일자, 휴업종료일자를 사용하여 연도별 영업상태명을 생성해주어야 하므로 해당 열들의 결측치를 100000로 채움"
   ]
  },
  {
   "cell_type": "code",
   "execution_count": 51,
   "id": "6611e8b3",
   "metadata": {},
   "outputs": [],
   "source": [
    "df_2_3 = df_2_3.fillna(100000)"
   ]
  },
  {
   "cell_type": "code",
   "execution_count": 52,
   "id": "947b221b",
   "metadata": {
    "scrolled": true
   },
   "outputs": [
    {
     "data": {
      "text/html": [
       "<div>\n",
       "<style scoped>\n",
       "    .dataframe tbody tr th:only-of-type {\n",
       "        vertical-align: middle;\n",
       "    }\n",
       "\n",
       "    .dataframe tbody tr th {\n",
       "        vertical-align: top;\n",
       "    }\n",
       "\n",
       "    .dataframe thead th {\n",
       "        text-align: right;\n",
       "    }\n",
       "</style>\n",
       "<table border=\"1\" class=\"dataframe\">\n",
       "  <thead>\n",
       "    <tr style=\"text-align: right;\">\n",
       "      <th></th>\n",
       "      <th>Unnamed: 0</th>\n",
       "      <th>개방서비스명</th>\n",
       "      <th>인허가일자</th>\n",
       "      <th>영업상태구분코드</th>\n",
       "      <th>영업상태명</th>\n",
       "      <th>폐업일자</th>\n",
       "      <th>휴업시작일자</th>\n",
       "      <th>휴업종료일자</th>\n",
       "      <th>총층수</th>\n",
       "      <th>객실수</th>\n",
       "      <th>경도</th>\n",
       "      <th>위도</th>\n",
       "      <th>지역</th>\n",
       "      <th>s_distance</th>\n",
       "    </tr>\n",
       "  </thead>\n",
       "  <tbody>\n",
       "    <tr>\n",
       "      <th>0</th>\n",
       "      <td>0</td>\n",
       "      <td>관광숙박업</td>\n",
       "      <td>20180618</td>\n",
       "      <td>3</td>\n",
       "      <td>폐업</td>\n",
       "      <td>20201008.0</td>\n",
       "      <td>100000.0</td>\n",
       "      <td>100000.0</td>\n",
       "      <td>5</td>\n",
       "      <td>8</td>\n",
       "      <td>126.986617</td>\n",
       "      <td>37.575468</td>\n",
       "      <td>서울특별시</td>\n",
       "      <td>2.317878</td>\n",
       "    </tr>\n",
       "    <tr>\n",
       "      <th>1</th>\n",
       "      <td>1</td>\n",
       "      <td>관광숙박업</td>\n",
       "      <td>20191018</td>\n",
       "      <td>1</td>\n",
       "      <td>영업/정상</td>\n",
       "      <td>100000.0</td>\n",
       "      <td>100000.0</td>\n",
       "      <td>100000.0</td>\n",
       "      <td>15</td>\n",
       "      <td>54</td>\n",
       "      <td>127.001070</td>\n",
       "      <td>37.575798</td>\n",
       "      <td>서울특별시</td>\n",
       "      <td>3.685598</td>\n",
       "    </tr>\n",
       "    <tr>\n",
       "      <th>2</th>\n",
       "      <td>2</td>\n",
       "      <td>관광숙박업</td>\n",
       "      <td>20180705</td>\n",
       "      <td>1</td>\n",
       "      <td>영업/정상</td>\n",
       "      <td>100000.0</td>\n",
       "      <td>100000.0</td>\n",
       "      <td>100000.0</td>\n",
       "      <td>10</td>\n",
       "      <td>42</td>\n",
       "      <td>126.981901</td>\n",
       "      <td>37.573053</td>\n",
       "      <td>서울특별시</td>\n",
       "      <td>1.833392</td>\n",
       "    </tr>\n",
       "    <tr>\n",
       "      <th>3</th>\n",
       "      <td>3</td>\n",
       "      <td>관광숙박업</td>\n",
       "      <td>20180214</td>\n",
       "      <td>1</td>\n",
       "      <td>영업/정상</td>\n",
       "      <td>100000.0</td>\n",
       "      <td>100000.0</td>\n",
       "      <td>100000.0</td>\n",
       "      <td>14</td>\n",
       "      <td>61</td>\n",
       "      <td>127.019354</td>\n",
       "      <td>37.573846</td>\n",
       "      <td>서울특별시</td>\n",
       "      <td>3.202947</td>\n",
       "    </tr>\n",
       "    <tr>\n",
       "      <th>4</th>\n",
       "      <td>4</td>\n",
       "      <td>관광숙박업</td>\n",
       "      <td>20140508</td>\n",
       "      <td>1</td>\n",
       "      <td>영업/정상</td>\n",
       "      <td>100000.0</td>\n",
       "      <td>100000.0</td>\n",
       "      <td>100000.0</td>\n",
       "      <td>5</td>\n",
       "      <td>10</td>\n",
       "      <td>127.007328</td>\n",
       "      <td>37.570651</td>\n",
       "      <td>서울특별시</td>\n",
       "      <td>4.213350</td>\n",
       "    </tr>\n",
       "    <tr>\n",
       "      <th>...</th>\n",
       "      <td>...</td>\n",
       "      <td>...</td>\n",
       "      <td>...</td>\n",
       "      <td>...</td>\n",
       "      <td>...</td>\n",
       "      <td>...</td>\n",
       "      <td>...</td>\n",
       "      <td>...</td>\n",
       "      <td>...</td>\n",
       "      <td>...</td>\n",
       "      <td>...</td>\n",
       "      <td>...</td>\n",
       "      <td>...</td>\n",
       "      <td>...</td>\n",
       "    </tr>\n",
       "    <tr>\n",
       "      <th>42718</th>\n",
       "      <td>42718</td>\n",
       "      <td>일반야영장업</td>\n",
       "      <td>20150625</td>\n",
       "      <td>1</td>\n",
       "      <td>영업/정상</td>\n",
       "      <td>100000.0</td>\n",
       "      <td>100000.0</td>\n",
       "      <td>100000.0</td>\n",
       "      <td>0</td>\n",
       "      <td>0</td>\n",
       "      <td>126.334375</td>\n",
       "      <td>33.306181</td>\n",
       "      <td>제주특별자치도</td>\n",
       "      <td>0.000000</td>\n",
       "    </tr>\n",
       "    <tr>\n",
       "      <th>42719</th>\n",
       "      <td>42719</td>\n",
       "      <td>일반야영장업</td>\n",
       "      <td>20150522</td>\n",
       "      <td>1</td>\n",
       "      <td>영업/정상</td>\n",
       "      <td>100000.0</td>\n",
       "      <td>100000.0</td>\n",
       "      <td>100000.0</td>\n",
       "      <td>0</td>\n",
       "      <td>0</td>\n",
       "      <td>126.605475</td>\n",
       "      <td>33.240524</td>\n",
       "      <td>제주특별자치도</td>\n",
       "      <td>0.000000</td>\n",
       "    </tr>\n",
       "    <tr>\n",
       "      <th>42720</th>\n",
       "      <td>42720</td>\n",
       "      <td>일반야영장업</td>\n",
       "      <td>20160509</td>\n",
       "      <td>1</td>\n",
       "      <td>영업/정상</td>\n",
       "      <td>100000.0</td>\n",
       "      <td>100000.0</td>\n",
       "      <td>100000.0</td>\n",
       "      <td>0</td>\n",
       "      <td>0</td>\n",
       "      <td>126.415480</td>\n",
       "      <td>33.252231</td>\n",
       "      <td>제주특별자치도</td>\n",
       "      <td>0.000000</td>\n",
       "    </tr>\n",
       "    <tr>\n",
       "      <th>42721</th>\n",
       "      <td>42721</td>\n",
       "      <td>일반야영장업</td>\n",
       "      <td>20150727</td>\n",
       "      <td>1</td>\n",
       "      <td>영업/정상</td>\n",
       "      <td>100000.0</td>\n",
       "      <td>100000.0</td>\n",
       "      <td>100000.0</td>\n",
       "      <td>0</td>\n",
       "      <td>0</td>\n",
       "      <td>126.456886</td>\n",
       "      <td>33.310780</td>\n",
       "      <td>제주특별자치도</td>\n",
       "      <td>0.000000</td>\n",
       "    </tr>\n",
       "    <tr>\n",
       "      <th>42722</th>\n",
       "      <td>42722</td>\n",
       "      <td>일반야영장업</td>\n",
       "      <td>20160610</td>\n",
       "      <td>3</td>\n",
       "      <td>폐업</td>\n",
       "      <td>20211122.0</td>\n",
       "      <td>100000.0</td>\n",
       "      <td>100000.0</td>\n",
       "      <td>0</td>\n",
       "      <td>0</td>\n",
       "      <td>126.253059</td>\n",
       "      <td>33.211670</td>\n",
       "      <td>제주특별자치도</td>\n",
       "      <td>0.000000</td>\n",
       "    </tr>\n",
       "  </tbody>\n",
       "</table>\n",
       "<p>42723 rows × 14 columns</p>\n",
       "</div>"
      ],
      "text/plain": [
       "       Unnamed: 0  개방서비스명     인허가일자  영업상태구분코드  영업상태명        폐업일자    휴업시작일자  \\\n",
       "0               0   관광숙박업  20180618         3     폐업  20201008.0  100000.0   \n",
       "1               1   관광숙박업  20191018         1  영업/정상    100000.0  100000.0   \n",
       "2               2   관광숙박업  20180705         1  영업/정상    100000.0  100000.0   \n",
       "3               3   관광숙박업  20180214         1  영업/정상    100000.0  100000.0   \n",
       "4               4   관광숙박업  20140508         1  영업/정상    100000.0  100000.0   \n",
       "...           ...     ...       ...       ...    ...         ...       ...   \n",
       "42718       42718  일반야영장업  20150625         1  영업/정상    100000.0  100000.0   \n",
       "42719       42719  일반야영장업  20150522         1  영업/정상    100000.0  100000.0   \n",
       "42720       42720  일반야영장업  20160509         1  영업/정상    100000.0  100000.0   \n",
       "42721       42721  일반야영장업  20150727         1  영업/정상    100000.0  100000.0   \n",
       "42722       42722  일반야영장업  20160610         3     폐업  20211122.0  100000.0   \n",
       "\n",
       "         휴업종료일자  총층수  객실수          경도         위도       지역  s_distance  \n",
       "0      100000.0    5    8  126.986617  37.575468    서울특별시    2.317878  \n",
       "1      100000.0   15   54  127.001070  37.575798    서울특별시    3.685598  \n",
       "2      100000.0   10   42  126.981901  37.573053    서울특별시    1.833392  \n",
       "3      100000.0   14   61  127.019354  37.573846    서울특별시    3.202947  \n",
       "4      100000.0    5   10  127.007328  37.570651    서울특별시    4.213350  \n",
       "...         ...  ...  ...         ...        ...      ...         ...  \n",
       "42718  100000.0    0    0  126.334375  33.306181  제주특별자치도    0.000000  \n",
       "42719  100000.0    0    0  126.605475  33.240524  제주특별자치도    0.000000  \n",
       "42720  100000.0    0    0  126.415480  33.252231  제주특별자치도    0.000000  \n",
       "42721  100000.0    0    0  126.456886  33.310780  제주특별자치도    0.000000  \n",
       "42722  100000.0    0    0  126.253059  33.211670  제주특별자치도    0.000000  \n",
       "\n",
       "[42723 rows x 14 columns]"
      ]
     },
     "execution_count": 52,
     "metadata": {},
     "output_type": "execute_result"
    }
   ],
   "source": [
    "df_2_3"
   ]
  },
  {
   "cell_type": "code",
   "execution_count": 53,
   "id": "c492a812",
   "metadata": {},
   "outputs": [],
   "source": [
    "# 인허가 일자를 기준으로 3개의 데이터 프레임 설정\n",
    "df2019 = df_2_3[df_2_3['인허가일자'] < 20200000]\n",
    "df2020 = df_2_3[df_2_3['인허가일자'] < 20210000]\n",
    "df2021 = df_2_3"
   ]
  },
  {
   "cell_type": "code",
   "execution_count": 54,
   "id": "c8ac92d4",
   "metadata": {},
   "outputs": [],
   "source": [
    "df_2_3.to_excel('C:/Users/sgvin/Desktop/개인2/대학/동아리/경진대회/2022 1회 경진대회/전처리_년도별분리전.xlsx')"
   ]
  },
  {
   "cell_type": "code",
   "execution_count": 55,
   "id": "71053fb4",
   "metadata": {},
   "outputs": [],
   "source": [
    "df2019.to_excel('C:/Users/sgvin/Desktop/개인2/대학/동아리/경진대회/2022 1회 경진대회/전처리_코로나이전.xlsx')\n",
    "df2020.to_excel('C:/Users/sgvin/Desktop/개인2/대학/동아리/경진대회/2022 1회 경진대회/전처리_2020.xlsx')\n",
    "df2021.to_excel('C:/Users/sgvin/Desktop/개인2/대학/동아리/경진대회/2022 1회 경진대회/전처리_2021.xlsx')"
   ]
  },
  {
   "cell_type": "code",
   "execution_count": 56,
   "id": "a57f9283",
   "metadata": {},
   "outputs": [
    {
     "name": "stdout",
     "output_type": "stream",
     "text": [
      "(40461, 14)\n",
      "(41297, 14)\n",
      "(42723, 14)\n"
     ]
    }
   ],
   "source": [
    "print(df2019.shape)\n",
    "print(df2020.shape)\n",
    "print(df2021.shape)"
   ]
  },
  {
   "cell_type": "markdown",
   "id": "1d1701c1",
   "metadata": {},
   "source": [
    "#### 연도별 영업상태명 판단하는 함수 생성\n",
    "- 1- 영업/정상 2- 휴업 3 - 폐업\n",
    "- x: 폐업일자 y: 휴업시작일자 z: 휴업종료일자"
   ]
  },
  {
   "cell_type": "code",
   "execution_count": 57,
   "id": "4dd4f692",
   "metadata": {},
   "outputs": [
    {
     "data": {
      "text/plain": [
       "'\\n\\n영업조건: 폐업일자, 휴업일자가 모두 10000인 경우/ 휴업종료일자가 행당 년도에 존재하는 경우\\n휴업조건: 휴업일자가 100000 이상이고, 폐업일자가 해당년도 이상인 경우 \\n            +휴업시작일자가 해당년도 이하인 경우 & 휴업종료일자가 해당년도 이상인 경우\\n폐업조건: 폐업일자가 100000 이상이고, 해당년도 내에 있는 경우\\n\\n'"
      ]
     },
     "execution_count": 57,
     "metadata": {},
     "output_type": "execute_result"
    }
   ],
   "source": [
    "\"\"\"\n",
    "\n",
    "영업조건: 폐업일자, 휴업일자가 모두 10000인 경우/ 휴업종료일자가 행당 년도에 존재하는 경우\n",
    "휴업조건: 휴업일자가 100000 이상이고, 폐업일자가 해당년도 이상인 경우 \n",
    "            +휴업시작일자가 해당년도 이하인 경우 & 휴업종료일자가 해당년도 이상인 경우\n",
    "폐업조건: 폐업일자가 100000 이상이고, 해당년도 내에 있는 경우\n",
    "\n",
    "\"\"\""
   ]
  },
  {
   "cell_type": "code",
   "execution_count": 58,
   "id": "c3bf20a0",
   "metadata": {},
   "outputs": [],
   "source": [
    "def state2019(x, y, z):\n",
    "    if x == 100000 and y == 100000:\n",
    "        return '영업/정상'\n",
    "    elif x == 100000 or x > 20200000  :\n",
    "        if  100000 < y < 20200000 and z > 20200000:\n",
    "            return '휴업'\n",
    "        else:\n",
    "            return '영업/정상'\n",
    "    else:\n",
    "        return '폐업'"
   ]
  },
  {
   "cell_type": "code",
   "execution_count": 59,
   "id": "b782658d",
   "metadata": {},
   "outputs": [],
   "source": [
    "def state2020(x, y, z):\n",
    "    if x == 100000 and y == 100000:\n",
    "        return '영업/정상'\n",
    "    elif x == 100000 or x > 20210000  :\n",
    "        if  100000 < y < 20210000 and z > 20210000:\n",
    "            return '휴업'\n",
    "        else:\n",
    "            return '영업/정상'\n",
    "    else:\n",
    "        return '폐업'"
   ]
  },
  {
   "cell_type": "code",
   "execution_count": 60,
   "id": "493410f1",
   "metadata": {
    "scrolled": false
   },
   "outputs": [
    {
     "name": "stderr",
     "output_type": "stream",
     "text": [
      "C:\\Users\\sgvin\\AppData\\Local\\Temp/ipykernel_16488/2603084432.py:1: SettingWithCopyWarning: \n",
      "A value is trying to be set on a copy of a slice from a DataFrame.\n",
      "Try using .loc[row_indexer,col_indexer] = value instead\n",
      "\n",
      "See the caveats in the documentation: https://pandas.pydata.org/pandas-docs/stable/user_guide/indexing.html#returning-a-view-versus-a-copy\n",
      "  df2019['영업상태명2019'] = df2019.apply(lambda x: state2019( x['폐업일자'], x['휴업시작일자'], x['휴업종료일자']), axis=1)\n"
     ]
    }
   ],
   "source": [
    "df2019['영업상태명2019'] = df2019.apply(lambda x: state2019( x['폐업일자'], x['휴업시작일자'], x['휴업종료일자']), axis=1)"
   ]
  },
  {
   "cell_type": "code",
   "execution_count": 61,
   "id": "c81ed2ca",
   "metadata": {},
   "outputs": [
    {
     "name": "stderr",
     "output_type": "stream",
     "text": [
      "C:\\Users\\sgvin\\AppData\\Local\\Temp/ipykernel_16488/1662092867.py:1: SettingWithCopyWarning: \n",
      "A value is trying to be set on a copy of a slice from a DataFrame.\n",
      "Try using .loc[row_indexer,col_indexer] = value instead\n",
      "\n",
      "See the caveats in the documentation: https://pandas.pydata.org/pandas-docs/stable/user_guide/indexing.html#returning-a-view-versus-a-copy\n",
      "  df2020['영업상태명2020'] = df2020.apply(lambda x: state2020( x['폐업일자'], x['휴업시작일자'], x['휴업종료일자']), axis=1)\n"
     ]
    }
   ],
   "source": [
    "df2020['영업상태명2020'] = df2020.apply(lambda x: state2020( x['폐업일자'], x['휴업시작일자'], x['휴업종료일자']), axis=1)"
   ]
  },
  {
   "cell_type": "code",
   "execution_count": 62,
   "id": "14ceb7bf",
   "metadata": {
    "scrolled": true
   },
   "outputs": [
    {
     "data": {
      "text/html": [
       "<div>\n",
       "<style scoped>\n",
       "    .dataframe tbody tr th:only-of-type {\n",
       "        vertical-align: middle;\n",
       "    }\n",
       "\n",
       "    .dataframe tbody tr th {\n",
       "        vertical-align: top;\n",
       "    }\n",
       "\n",
       "    .dataframe thead th {\n",
       "        text-align: right;\n",
       "    }\n",
       "</style>\n",
       "<table border=\"1\" class=\"dataframe\">\n",
       "  <thead>\n",
       "    <tr style=\"text-align: right;\">\n",
       "      <th></th>\n",
       "      <th>Unnamed: 0</th>\n",
       "      <th>개방서비스명</th>\n",
       "      <th>인허가일자</th>\n",
       "      <th>영업상태구분코드</th>\n",
       "      <th>폐업일자</th>\n",
       "      <th>휴업시작일자</th>\n",
       "      <th>휴업종료일자</th>\n",
       "      <th>총층수</th>\n",
       "      <th>객실수</th>\n",
       "      <th>경도</th>\n",
       "      <th>위도</th>\n",
       "      <th>지역</th>\n",
       "      <th>s_distance</th>\n",
       "      <th>영업상태명2019</th>\n",
       "    </tr>\n",
       "  </thead>\n",
       "  <tbody>\n",
       "    <tr>\n",
       "      <th>0</th>\n",
       "      <td>0</td>\n",
       "      <td>관광숙박업</td>\n",
       "      <td>20180618</td>\n",
       "      <td>3</td>\n",
       "      <td>20201008.0</td>\n",
       "      <td>100000.0</td>\n",
       "      <td>100000.0</td>\n",
       "      <td>5</td>\n",
       "      <td>8</td>\n",
       "      <td>126.986617</td>\n",
       "      <td>37.575468</td>\n",
       "      <td>서울특별시</td>\n",
       "      <td>2.317878</td>\n",
       "      <td>영업/정상</td>\n",
       "    </tr>\n",
       "    <tr>\n",
       "      <th>1</th>\n",
       "      <td>1</td>\n",
       "      <td>관광숙박업</td>\n",
       "      <td>20191018</td>\n",
       "      <td>1</td>\n",
       "      <td>100000.0</td>\n",
       "      <td>100000.0</td>\n",
       "      <td>100000.0</td>\n",
       "      <td>15</td>\n",
       "      <td>54</td>\n",
       "      <td>127.001070</td>\n",
       "      <td>37.575798</td>\n",
       "      <td>서울특별시</td>\n",
       "      <td>3.685598</td>\n",
       "      <td>영업/정상</td>\n",
       "    </tr>\n",
       "    <tr>\n",
       "      <th>2</th>\n",
       "      <td>2</td>\n",
       "      <td>관광숙박업</td>\n",
       "      <td>20180705</td>\n",
       "      <td>1</td>\n",
       "      <td>100000.0</td>\n",
       "      <td>100000.0</td>\n",
       "      <td>100000.0</td>\n",
       "      <td>10</td>\n",
       "      <td>42</td>\n",
       "      <td>126.981901</td>\n",
       "      <td>37.573053</td>\n",
       "      <td>서울특별시</td>\n",
       "      <td>1.833392</td>\n",
       "      <td>영업/정상</td>\n",
       "    </tr>\n",
       "    <tr>\n",
       "      <th>3</th>\n",
       "      <td>3</td>\n",
       "      <td>관광숙박업</td>\n",
       "      <td>20180214</td>\n",
       "      <td>1</td>\n",
       "      <td>100000.0</td>\n",
       "      <td>100000.0</td>\n",
       "      <td>100000.0</td>\n",
       "      <td>14</td>\n",
       "      <td>61</td>\n",
       "      <td>127.019354</td>\n",
       "      <td>37.573846</td>\n",
       "      <td>서울특별시</td>\n",
       "      <td>3.202947</td>\n",
       "      <td>영업/정상</td>\n",
       "    </tr>\n",
       "    <tr>\n",
       "      <th>4</th>\n",
       "      <td>4</td>\n",
       "      <td>관광숙박업</td>\n",
       "      <td>20140508</td>\n",
       "      <td>1</td>\n",
       "      <td>100000.0</td>\n",
       "      <td>100000.0</td>\n",
       "      <td>100000.0</td>\n",
       "      <td>5</td>\n",
       "      <td>10</td>\n",
       "      <td>127.007328</td>\n",
       "      <td>37.570651</td>\n",
       "      <td>서울특별시</td>\n",
       "      <td>4.213350</td>\n",
       "      <td>영업/정상</td>\n",
       "    </tr>\n",
       "    <tr>\n",
       "      <th>...</th>\n",
       "      <td>...</td>\n",
       "      <td>...</td>\n",
       "      <td>...</td>\n",
       "      <td>...</td>\n",
       "      <td>...</td>\n",
       "      <td>...</td>\n",
       "      <td>...</td>\n",
       "      <td>...</td>\n",
       "      <td>...</td>\n",
       "      <td>...</td>\n",
       "      <td>...</td>\n",
       "      <td>...</td>\n",
       "      <td>...</td>\n",
       "      <td>...</td>\n",
       "    </tr>\n",
       "    <tr>\n",
       "      <th>42718</th>\n",
       "      <td>42718</td>\n",
       "      <td>일반야영장업</td>\n",
       "      <td>20150625</td>\n",
       "      <td>1</td>\n",
       "      <td>100000.0</td>\n",
       "      <td>100000.0</td>\n",
       "      <td>100000.0</td>\n",
       "      <td>0</td>\n",
       "      <td>0</td>\n",
       "      <td>126.334375</td>\n",
       "      <td>33.306181</td>\n",
       "      <td>제주특별자치도</td>\n",
       "      <td>0.000000</td>\n",
       "      <td>영업/정상</td>\n",
       "    </tr>\n",
       "    <tr>\n",
       "      <th>42719</th>\n",
       "      <td>42719</td>\n",
       "      <td>일반야영장업</td>\n",
       "      <td>20150522</td>\n",
       "      <td>1</td>\n",
       "      <td>100000.0</td>\n",
       "      <td>100000.0</td>\n",
       "      <td>100000.0</td>\n",
       "      <td>0</td>\n",
       "      <td>0</td>\n",
       "      <td>126.605475</td>\n",
       "      <td>33.240524</td>\n",
       "      <td>제주특별자치도</td>\n",
       "      <td>0.000000</td>\n",
       "      <td>영업/정상</td>\n",
       "    </tr>\n",
       "    <tr>\n",
       "      <th>42720</th>\n",
       "      <td>42720</td>\n",
       "      <td>일반야영장업</td>\n",
       "      <td>20160509</td>\n",
       "      <td>1</td>\n",
       "      <td>100000.0</td>\n",
       "      <td>100000.0</td>\n",
       "      <td>100000.0</td>\n",
       "      <td>0</td>\n",
       "      <td>0</td>\n",
       "      <td>126.415480</td>\n",
       "      <td>33.252231</td>\n",
       "      <td>제주특별자치도</td>\n",
       "      <td>0.000000</td>\n",
       "      <td>영업/정상</td>\n",
       "    </tr>\n",
       "    <tr>\n",
       "      <th>42721</th>\n",
       "      <td>42721</td>\n",
       "      <td>일반야영장업</td>\n",
       "      <td>20150727</td>\n",
       "      <td>1</td>\n",
       "      <td>100000.0</td>\n",
       "      <td>100000.0</td>\n",
       "      <td>100000.0</td>\n",
       "      <td>0</td>\n",
       "      <td>0</td>\n",
       "      <td>126.456886</td>\n",
       "      <td>33.310780</td>\n",
       "      <td>제주특별자치도</td>\n",
       "      <td>0.000000</td>\n",
       "      <td>영업/정상</td>\n",
       "    </tr>\n",
       "    <tr>\n",
       "      <th>42722</th>\n",
       "      <td>42722</td>\n",
       "      <td>일반야영장업</td>\n",
       "      <td>20160610</td>\n",
       "      <td>3</td>\n",
       "      <td>20211122.0</td>\n",
       "      <td>100000.0</td>\n",
       "      <td>100000.0</td>\n",
       "      <td>0</td>\n",
       "      <td>0</td>\n",
       "      <td>126.253059</td>\n",
       "      <td>33.211670</td>\n",
       "      <td>제주특별자치도</td>\n",
       "      <td>0.000000</td>\n",
       "      <td>영업/정상</td>\n",
       "    </tr>\n",
       "  </tbody>\n",
       "</table>\n",
       "<p>40461 rows × 14 columns</p>\n",
       "</div>"
      ],
      "text/plain": [
       "       Unnamed: 0  개방서비스명     인허가일자  영업상태구분코드        폐업일자    휴업시작일자    휴업종료일자  \\\n",
       "0               0   관광숙박업  20180618         3  20201008.0  100000.0  100000.0   \n",
       "1               1   관광숙박업  20191018         1    100000.0  100000.0  100000.0   \n",
       "2               2   관광숙박업  20180705         1    100000.0  100000.0  100000.0   \n",
       "3               3   관광숙박업  20180214         1    100000.0  100000.0  100000.0   \n",
       "4               4   관광숙박업  20140508         1    100000.0  100000.0  100000.0   \n",
       "...           ...     ...       ...       ...         ...       ...       ...   \n",
       "42718       42718  일반야영장업  20150625         1    100000.0  100000.0  100000.0   \n",
       "42719       42719  일반야영장업  20150522         1    100000.0  100000.0  100000.0   \n",
       "42720       42720  일반야영장업  20160509         1    100000.0  100000.0  100000.0   \n",
       "42721       42721  일반야영장업  20150727         1    100000.0  100000.0  100000.0   \n",
       "42722       42722  일반야영장업  20160610         3  20211122.0  100000.0  100000.0   \n",
       "\n",
       "       총층수  객실수          경도         위도       지역  s_distance 영업상태명2019  \n",
       "0        5    8  126.986617  37.575468    서울특별시    2.317878     영업/정상  \n",
       "1       15   54  127.001070  37.575798    서울특별시    3.685598     영업/정상  \n",
       "2       10   42  126.981901  37.573053    서울특별시    1.833392     영업/정상  \n",
       "3       14   61  127.019354  37.573846    서울특별시    3.202947     영업/정상  \n",
       "4        5   10  127.007328  37.570651    서울특별시    4.213350     영업/정상  \n",
       "...    ...  ...         ...        ...      ...         ...       ...  \n",
       "42718    0    0  126.334375  33.306181  제주특별자치도    0.000000     영업/정상  \n",
       "42719    0    0  126.605475  33.240524  제주특별자치도    0.000000     영업/정상  \n",
       "42720    0    0  126.415480  33.252231  제주특별자치도    0.000000     영업/정상  \n",
       "42721    0    0  126.456886  33.310780  제주특별자치도    0.000000     영업/정상  \n",
       "42722    0    0  126.253059  33.211670  제주특별자치도    0.000000     영업/정상  \n",
       "\n",
       "[40461 rows x 14 columns]"
      ]
     },
     "execution_count": 62,
     "metadata": {},
     "output_type": "execute_result"
    }
   ],
   "source": [
    "df2019 = df2019.drop(['영업상태명'], axis=1)\n",
    "df2019"
   ]
  },
  {
   "cell_type": "code",
   "execution_count": 63,
   "id": "5726a2c0",
   "metadata": {
    "scrolled": true
   },
   "outputs": [
    {
     "data": {
      "text/html": [
       "<div>\n",
       "<style scoped>\n",
       "    .dataframe tbody tr th:only-of-type {\n",
       "        vertical-align: middle;\n",
       "    }\n",
       "\n",
       "    .dataframe tbody tr th {\n",
       "        vertical-align: top;\n",
       "    }\n",
       "\n",
       "    .dataframe thead th {\n",
       "        text-align: right;\n",
       "    }\n",
       "</style>\n",
       "<table border=\"1\" class=\"dataframe\">\n",
       "  <thead>\n",
       "    <tr style=\"text-align: right;\">\n",
       "      <th></th>\n",
       "      <th>Unnamed: 0</th>\n",
       "      <th>개방서비스명</th>\n",
       "      <th>인허가일자</th>\n",
       "      <th>영업상태구분코드</th>\n",
       "      <th>폐업일자</th>\n",
       "      <th>휴업시작일자</th>\n",
       "      <th>휴업종료일자</th>\n",
       "      <th>총층수</th>\n",
       "      <th>객실수</th>\n",
       "      <th>경도</th>\n",
       "      <th>위도</th>\n",
       "      <th>지역</th>\n",
       "      <th>s_distance</th>\n",
       "      <th>영업상태명2020</th>\n",
       "    </tr>\n",
       "  </thead>\n",
       "  <tbody>\n",
       "    <tr>\n",
       "      <th>0</th>\n",
       "      <td>0</td>\n",
       "      <td>관광숙박업</td>\n",
       "      <td>20180618</td>\n",
       "      <td>3</td>\n",
       "      <td>20201008.0</td>\n",
       "      <td>100000.0</td>\n",
       "      <td>100000.0</td>\n",
       "      <td>5</td>\n",
       "      <td>8</td>\n",
       "      <td>126.986617</td>\n",
       "      <td>37.575468</td>\n",
       "      <td>서울특별시</td>\n",
       "      <td>2.317878</td>\n",
       "      <td>폐업</td>\n",
       "    </tr>\n",
       "    <tr>\n",
       "      <th>1</th>\n",
       "      <td>1</td>\n",
       "      <td>관광숙박업</td>\n",
       "      <td>20191018</td>\n",
       "      <td>1</td>\n",
       "      <td>100000.0</td>\n",
       "      <td>100000.0</td>\n",
       "      <td>100000.0</td>\n",
       "      <td>15</td>\n",
       "      <td>54</td>\n",
       "      <td>127.001070</td>\n",
       "      <td>37.575798</td>\n",
       "      <td>서울특별시</td>\n",
       "      <td>3.685598</td>\n",
       "      <td>영업/정상</td>\n",
       "    </tr>\n",
       "    <tr>\n",
       "      <th>2</th>\n",
       "      <td>2</td>\n",
       "      <td>관광숙박업</td>\n",
       "      <td>20180705</td>\n",
       "      <td>1</td>\n",
       "      <td>100000.0</td>\n",
       "      <td>100000.0</td>\n",
       "      <td>100000.0</td>\n",
       "      <td>10</td>\n",
       "      <td>42</td>\n",
       "      <td>126.981901</td>\n",
       "      <td>37.573053</td>\n",
       "      <td>서울특별시</td>\n",
       "      <td>1.833392</td>\n",
       "      <td>영업/정상</td>\n",
       "    </tr>\n",
       "    <tr>\n",
       "      <th>3</th>\n",
       "      <td>3</td>\n",
       "      <td>관광숙박업</td>\n",
       "      <td>20180214</td>\n",
       "      <td>1</td>\n",
       "      <td>100000.0</td>\n",
       "      <td>100000.0</td>\n",
       "      <td>100000.0</td>\n",
       "      <td>14</td>\n",
       "      <td>61</td>\n",
       "      <td>127.019354</td>\n",
       "      <td>37.573846</td>\n",
       "      <td>서울특별시</td>\n",
       "      <td>3.202947</td>\n",
       "      <td>영업/정상</td>\n",
       "    </tr>\n",
       "    <tr>\n",
       "      <th>4</th>\n",
       "      <td>4</td>\n",
       "      <td>관광숙박업</td>\n",
       "      <td>20140508</td>\n",
       "      <td>1</td>\n",
       "      <td>100000.0</td>\n",
       "      <td>100000.0</td>\n",
       "      <td>100000.0</td>\n",
       "      <td>5</td>\n",
       "      <td>10</td>\n",
       "      <td>127.007328</td>\n",
       "      <td>37.570651</td>\n",
       "      <td>서울특별시</td>\n",
       "      <td>4.213350</td>\n",
       "      <td>영업/정상</td>\n",
       "    </tr>\n",
       "    <tr>\n",
       "      <th>...</th>\n",
       "      <td>...</td>\n",
       "      <td>...</td>\n",
       "      <td>...</td>\n",
       "      <td>...</td>\n",
       "      <td>...</td>\n",
       "      <td>...</td>\n",
       "      <td>...</td>\n",
       "      <td>...</td>\n",
       "      <td>...</td>\n",
       "      <td>...</td>\n",
       "      <td>...</td>\n",
       "      <td>...</td>\n",
       "      <td>...</td>\n",
       "      <td>...</td>\n",
       "    </tr>\n",
       "    <tr>\n",
       "      <th>42718</th>\n",
       "      <td>42718</td>\n",
       "      <td>일반야영장업</td>\n",
       "      <td>20150625</td>\n",
       "      <td>1</td>\n",
       "      <td>100000.0</td>\n",
       "      <td>100000.0</td>\n",
       "      <td>100000.0</td>\n",
       "      <td>0</td>\n",
       "      <td>0</td>\n",
       "      <td>126.334375</td>\n",
       "      <td>33.306181</td>\n",
       "      <td>제주특별자치도</td>\n",
       "      <td>0.000000</td>\n",
       "      <td>영업/정상</td>\n",
       "    </tr>\n",
       "    <tr>\n",
       "      <th>42719</th>\n",
       "      <td>42719</td>\n",
       "      <td>일반야영장업</td>\n",
       "      <td>20150522</td>\n",
       "      <td>1</td>\n",
       "      <td>100000.0</td>\n",
       "      <td>100000.0</td>\n",
       "      <td>100000.0</td>\n",
       "      <td>0</td>\n",
       "      <td>0</td>\n",
       "      <td>126.605475</td>\n",
       "      <td>33.240524</td>\n",
       "      <td>제주특별자치도</td>\n",
       "      <td>0.000000</td>\n",
       "      <td>영업/정상</td>\n",
       "    </tr>\n",
       "    <tr>\n",
       "      <th>42720</th>\n",
       "      <td>42720</td>\n",
       "      <td>일반야영장업</td>\n",
       "      <td>20160509</td>\n",
       "      <td>1</td>\n",
       "      <td>100000.0</td>\n",
       "      <td>100000.0</td>\n",
       "      <td>100000.0</td>\n",
       "      <td>0</td>\n",
       "      <td>0</td>\n",
       "      <td>126.415480</td>\n",
       "      <td>33.252231</td>\n",
       "      <td>제주특별자치도</td>\n",
       "      <td>0.000000</td>\n",
       "      <td>영업/정상</td>\n",
       "    </tr>\n",
       "    <tr>\n",
       "      <th>42721</th>\n",
       "      <td>42721</td>\n",
       "      <td>일반야영장업</td>\n",
       "      <td>20150727</td>\n",
       "      <td>1</td>\n",
       "      <td>100000.0</td>\n",
       "      <td>100000.0</td>\n",
       "      <td>100000.0</td>\n",
       "      <td>0</td>\n",
       "      <td>0</td>\n",
       "      <td>126.456886</td>\n",
       "      <td>33.310780</td>\n",
       "      <td>제주특별자치도</td>\n",
       "      <td>0.000000</td>\n",
       "      <td>영업/정상</td>\n",
       "    </tr>\n",
       "    <tr>\n",
       "      <th>42722</th>\n",
       "      <td>42722</td>\n",
       "      <td>일반야영장업</td>\n",
       "      <td>20160610</td>\n",
       "      <td>3</td>\n",
       "      <td>20211122.0</td>\n",
       "      <td>100000.0</td>\n",
       "      <td>100000.0</td>\n",
       "      <td>0</td>\n",
       "      <td>0</td>\n",
       "      <td>126.253059</td>\n",
       "      <td>33.211670</td>\n",
       "      <td>제주특별자치도</td>\n",
       "      <td>0.000000</td>\n",
       "      <td>영업/정상</td>\n",
       "    </tr>\n",
       "  </tbody>\n",
       "</table>\n",
       "<p>41297 rows × 14 columns</p>\n",
       "</div>"
      ],
      "text/plain": [
       "       Unnamed: 0  개방서비스명     인허가일자  영업상태구분코드        폐업일자    휴업시작일자    휴업종료일자  \\\n",
       "0               0   관광숙박업  20180618         3  20201008.0  100000.0  100000.0   \n",
       "1               1   관광숙박업  20191018         1    100000.0  100000.0  100000.0   \n",
       "2               2   관광숙박업  20180705         1    100000.0  100000.0  100000.0   \n",
       "3               3   관광숙박업  20180214         1    100000.0  100000.0  100000.0   \n",
       "4               4   관광숙박업  20140508         1    100000.0  100000.0  100000.0   \n",
       "...           ...     ...       ...       ...         ...       ...       ...   \n",
       "42718       42718  일반야영장업  20150625         1    100000.0  100000.0  100000.0   \n",
       "42719       42719  일반야영장업  20150522         1    100000.0  100000.0  100000.0   \n",
       "42720       42720  일반야영장업  20160509         1    100000.0  100000.0  100000.0   \n",
       "42721       42721  일반야영장업  20150727         1    100000.0  100000.0  100000.0   \n",
       "42722       42722  일반야영장업  20160610         3  20211122.0  100000.0  100000.0   \n",
       "\n",
       "       총층수  객실수          경도         위도       지역  s_distance 영업상태명2020  \n",
       "0        5    8  126.986617  37.575468    서울특별시    2.317878        폐업  \n",
       "1       15   54  127.001070  37.575798    서울특별시    3.685598     영업/정상  \n",
       "2       10   42  126.981901  37.573053    서울특별시    1.833392     영업/정상  \n",
       "3       14   61  127.019354  37.573846    서울특별시    3.202947     영업/정상  \n",
       "4        5   10  127.007328  37.570651    서울특별시    4.213350     영업/정상  \n",
       "...    ...  ...         ...        ...      ...         ...       ...  \n",
       "42718    0    0  126.334375  33.306181  제주특별자치도    0.000000     영업/정상  \n",
       "42719    0    0  126.605475  33.240524  제주특별자치도    0.000000     영업/정상  \n",
       "42720    0    0  126.415480  33.252231  제주특별자치도    0.000000     영업/정상  \n",
       "42721    0    0  126.456886  33.310780  제주특별자치도    0.000000     영업/정상  \n",
       "42722    0    0  126.253059  33.211670  제주특별자치도    0.000000     영업/정상  \n",
       "\n",
       "[41297 rows x 14 columns]"
      ]
     },
     "execution_count": 63,
     "metadata": {},
     "output_type": "execute_result"
    }
   ],
   "source": [
    "df2020 = df2020.drop(['영업상태명'], axis=1)\n",
    "df2020"
   ]
  },
  {
   "cell_type": "code",
   "execution_count": 64,
   "id": "faaf0b1e",
   "metadata": {
    "scrolled": true
   },
   "outputs": [
    {
     "data": {
      "text/html": [
       "<div>\n",
       "<style scoped>\n",
       "    .dataframe tbody tr th:only-of-type {\n",
       "        vertical-align: middle;\n",
       "    }\n",
       "\n",
       "    .dataframe tbody tr th {\n",
       "        vertical-align: top;\n",
       "    }\n",
       "\n",
       "    .dataframe thead th {\n",
       "        text-align: right;\n",
       "    }\n",
       "</style>\n",
       "<table border=\"1\" class=\"dataframe\">\n",
       "  <thead>\n",
       "    <tr style=\"text-align: right;\">\n",
       "      <th></th>\n",
       "      <th>Unnamed: 0</th>\n",
       "      <th>개방서비스명</th>\n",
       "      <th>인허가일자</th>\n",
       "      <th>영업상태구분코드</th>\n",
       "      <th>영업상태명</th>\n",
       "      <th>폐업일자</th>\n",
       "      <th>휴업시작일자</th>\n",
       "      <th>휴업종료일자</th>\n",
       "      <th>총층수</th>\n",
       "      <th>객실수</th>\n",
       "      <th>경도</th>\n",
       "      <th>위도</th>\n",
       "      <th>지역</th>\n",
       "      <th>s_distance</th>\n",
       "    </tr>\n",
       "  </thead>\n",
       "  <tbody>\n",
       "    <tr>\n",
       "      <th>0</th>\n",
       "      <td>0</td>\n",
       "      <td>관광숙박업</td>\n",
       "      <td>20180618</td>\n",
       "      <td>3</td>\n",
       "      <td>폐업</td>\n",
       "      <td>20201008.0</td>\n",
       "      <td>100000.0</td>\n",
       "      <td>100000.0</td>\n",
       "      <td>5</td>\n",
       "      <td>8</td>\n",
       "      <td>126.986617</td>\n",
       "      <td>37.575468</td>\n",
       "      <td>서울특별시</td>\n",
       "      <td>2.317878</td>\n",
       "    </tr>\n",
       "    <tr>\n",
       "      <th>1</th>\n",
       "      <td>1</td>\n",
       "      <td>관광숙박업</td>\n",
       "      <td>20191018</td>\n",
       "      <td>1</td>\n",
       "      <td>영업/정상</td>\n",
       "      <td>100000.0</td>\n",
       "      <td>100000.0</td>\n",
       "      <td>100000.0</td>\n",
       "      <td>15</td>\n",
       "      <td>54</td>\n",
       "      <td>127.001070</td>\n",
       "      <td>37.575798</td>\n",
       "      <td>서울특별시</td>\n",
       "      <td>3.685598</td>\n",
       "    </tr>\n",
       "    <tr>\n",
       "      <th>2</th>\n",
       "      <td>2</td>\n",
       "      <td>관광숙박업</td>\n",
       "      <td>20180705</td>\n",
       "      <td>1</td>\n",
       "      <td>영업/정상</td>\n",
       "      <td>100000.0</td>\n",
       "      <td>100000.0</td>\n",
       "      <td>100000.0</td>\n",
       "      <td>10</td>\n",
       "      <td>42</td>\n",
       "      <td>126.981901</td>\n",
       "      <td>37.573053</td>\n",
       "      <td>서울특별시</td>\n",
       "      <td>1.833392</td>\n",
       "    </tr>\n",
       "    <tr>\n",
       "      <th>3</th>\n",
       "      <td>3</td>\n",
       "      <td>관광숙박업</td>\n",
       "      <td>20180214</td>\n",
       "      <td>1</td>\n",
       "      <td>영업/정상</td>\n",
       "      <td>100000.0</td>\n",
       "      <td>100000.0</td>\n",
       "      <td>100000.0</td>\n",
       "      <td>14</td>\n",
       "      <td>61</td>\n",
       "      <td>127.019354</td>\n",
       "      <td>37.573846</td>\n",
       "      <td>서울특별시</td>\n",
       "      <td>3.202947</td>\n",
       "    </tr>\n",
       "    <tr>\n",
       "      <th>4</th>\n",
       "      <td>4</td>\n",
       "      <td>관광숙박업</td>\n",
       "      <td>20140508</td>\n",
       "      <td>1</td>\n",
       "      <td>영업/정상</td>\n",
       "      <td>100000.0</td>\n",
       "      <td>100000.0</td>\n",
       "      <td>100000.0</td>\n",
       "      <td>5</td>\n",
       "      <td>10</td>\n",
       "      <td>127.007328</td>\n",
       "      <td>37.570651</td>\n",
       "      <td>서울특별시</td>\n",
       "      <td>4.213350</td>\n",
       "    </tr>\n",
       "    <tr>\n",
       "      <th>...</th>\n",
       "      <td>...</td>\n",
       "      <td>...</td>\n",
       "      <td>...</td>\n",
       "      <td>...</td>\n",
       "      <td>...</td>\n",
       "      <td>...</td>\n",
       "      <td>...</td>\n",
       "      <td>...</td>\n",
       "      <td>...</td>\n",
       "      <td>...</td>\n",
       "      <td>...</td>\n",
       "      <td>...</td>\n",
       "      <td>...</td>\n",
       "      <td>...</td>\n",
       "    </tr>\n",
       "    <tr>\n",
       "      <th>42718</th>\n",
       "      <td>42718</td>\n",
       "      <td>일반야영장업</td>\n",
       "      <td>20150625</td>\n",
       "      <td>1</td>\n",
       "      <td>영업/정상</td>\n",
       "      <td>100000.0</td>\n",
       "      <td>100000.0</td>\n",
       "      <td>100000.0</td>\n",
       "      <td>0</td>\n",
       "      <td>0</td>\n",
       "      <td>126.334375</td>\n",
       "      <td>33.306181</td>\n",
       "      <td>제주특별자치도</td>\n",
       "      <td>0.000000</td>\n",
       "    </tr>\n",
       "    <tr>\n",
       "      <th>42719</th>\n",
       "      <td>42719</td>\n",
       "      <td>일반야영장업</td>\n",
       "      <td>20150522</td>\n",
       "      <td>1</td>\n",
       "      <td>영업/정상</td>\n",
       "      <td>100000.0</td>\n",
       "      <td>100000.0</td>\n",
       "      <td>100000.0</td>\n",
       "      <td>0</td>\n",
       "      <td>0</td>\n",
       "      <td>126.605475</td>\n",
       "      <td>33.240524</td>\n",
       "      <td>제주특별자치도</td>\n",
       "      <td>0.000000</td>\n",
       "    </tr>\n",
       "    <tr>\n",
       "      <th>42720</th>\n",
       "      <td>42720</td>\n",
       "      <td>일반야영장업</td>\n",
       "      <td>20160509</td>\n",
       "      <td>1</td>\n",
       "      <td>영업/정상</td>\n",
       "      <td>100000.0</td>\n",
       "      <td>100000.0</td>\n",
       "      <td>100000.0</td>\n",
       "      <td>0</td>\n",
       "      <td>0</td>\n",
       "      <td>126.415480</td>\n",
       "      <td>33.252231</td>\n",
       "      <td>제주특별자치도</td>\n",
       "      <td>0.000000</td>\n",
       "    </tr>\n",
       "    <tr>\n",
       "      <th>42721</th>\n",
       "      <td>42721</td>\n",
       "      <td>일반야영장업</td>\n",
       "      <td>20150727</td>\n",
       "      <td>1</td>\n",
       "      <td>영업/정상</td>\n",
       "      <td>100000.0</td>\n",
       "      <td>100000.0</td>\n",
       "      <td>100000.0</td>\n",
       "      <td>0</td>\n",
       "      <td>0</td>\n",
       "      <td>126.456886</td>\n",
       "      <td>33.310780</td>\n",
       "      <td>제주특별자치도</td>\n",
       "      <td>0.000000</td>\n",
       "    </tr>\n",
       "    <tr>\n",
       "      <th>42722</th>\n",
       "      <td>42722</td>\n",
       "      <td>일반야영장업</td>\n",
       "      <td>20160610</td>\n",
       "      <td>3</td>\n",
       "      <td>폐업</td>\n",
       "      <td>20211122.0</td>\n",
       "      <td>100000.0</td>\n",
       "      <td>100000.0</td>\n",
       "      <td>0</td>\n",
       "      <td>0</td>\n",
       "      <td>126.253059</td>\n",
       "      <td>33.211670</td>\n",
       "      <td>제주특별자치도</td>\n",
       "      <td>0.000000</td>\n",
       "    </tr>\n",
       "  </tbody>\n",
       "</table>\n",
       "<p>42723 rows × 14 columns</p>\n",
       "</div>"
      ],
      "text/plain": [
       "       Unnamed: 0  개방서비스명     인허가일자  영업상태구분코드  영업상태명        폐업일자    휴업시작일자  \\\n",
       "0               0   관광숙박업  20180618         3     폐업  20201008.0  100000.0   \n",
       "1               1   관광숙박업  20191018         1  영업/정상    100000.0  100000.0   \n",
       "2               2   관광숙박업  20180705         1  영업/정상    100000.0  100000.0   \n",
       "3               3   관광숙박업  20180214         1  영업/정상    100000.0  100000.0   \n",
       "4               4   관광숙박업  20140508         1  영업/정상    100000.0  100000.0   \n",
       "...           ...     ...       ...       ...    ...         ...       ...   \n",
       "42718       42718  일반야영장업  20150625         1  영업/정상    100000.0  100000.0   \n",
       "42719       42719  일반야영장업  20150522         1  영업/정상    100000.0  100000.0   \n",
       "42720       42720  일반야영장업  20160509         1  영업/정상    100000.0  100000.0   \n",
       "42721       42721  일반야영장업  20150727         1  영업/정상    100000.0  100000.0   \n",
       "42722       42722  일반야영장업  20160610         3     폐업  20211122.0  100000.0   \n",
       "\n",
       "         휴업종료일자  총층수  객실수          경도         위도       지역  s_distance  \n",
       "0      100000.0    5    8  126.986617  37.575468    서울특별시    2.317878  \n",
       "1      100000.0   15   54  127.001070  37.575798    서울특별시    3.685598  \n",
       "2      100000.0   10   42  126.981901  37.573053    서울특별시    1.833392  \n",
       "3      100000.0   14   61  127.019354  37.573846    서울특별시    3.202947  \n",
       "4      100000.0    5   10  127.007328  37.570651    서울특별시    4.213350  \n",
       "...         ...  ...  ...         ...        ...      ...         ...  \n",
       "42718  100000.0    0    0  126.334375  33.306181  제주특별자치도    0.000000  \n",
       "42719  100000.0    0    0  126.605475  33.240524  제주특별자치도    0.000000  \n",
       "42720  100000.0    0    0  126.415480  33.252231  제주특별자치도    0.000000  \n",
       "42721  100000.0    0    0  126.456886  33.310780  제주특별자치도    0.000000  \n",
       "42722  100000.0    0    0  126.253059  33.211670  제주특별자치도    0.000000  \n",
       "\n",
       "[42723 rows x 14 columns]"
      ]
     },
     "execution_count": 64,
     "metadata": {},
     "output_type": "execute_result"
    }
   ],
   "source": [
    "df2021"
   ]
  },
  {
   "cell_type": "markdown",
   "id": "61edf05f",
   "metadata": {},
   "source": [
    "### 연차가 개폐업에 영향을 미칠 것이라고 판단하여 연차 컬럼 생성\n",
    "- 현재 연도에서 인허가일자의 연도만 잘래내어 연차 생성"
   ]
  },
  {
   "cell_type": "code",
   "execution_count": 65,
   "id": "aa47608d",
   "metadata": {
    "scrolled": true
   },
   "outputs": [
    {
     "data": {
      "text/html": [
       "<div>\n",
       "<style scoped>\n",
       "    .dataframe tbody tr th:only-of-type {\n",
       "        vertical-align: middle;\n",
       "    }\n",
       "\n",
       "    .dataframe tbody tr th {\n",
       "        vertical-align: top;\n",
       "    }\n",
       "\n",
       "    .dataframe thead th {\n",
       "        text-align: right;\n",
       "    }\n",
       "</style>\n",
       "<table border=\"1\" class=\"dataframe\">\n",
       "  <thead>\n",
       "    <tr style=\"text-align: right;\">\n",
       "      <th></th>\n",
       "      <th>Unnamed: 0</th>\n",
       "      <th>개방서비스명</th>\n",
       "      <th>인허가일자</th>\n",
       "      <th>영업상태구분코드</th>\n",
       "      <th>영업상태명</th>\n",
       "      <th>폐업일자</th>\n",
       "      <th>휴업시작일자</th>\n",
       "      <th>휴업종료일자</th>\n",
       "      <th>총층수</th>\n",
       "      <th>객실수</th>\n",
       "      <th>경도</th>\n",
       "      <th>위도</th>\n",
       "      <th>지역</th>\n",
       "      <th>s_distance</th>\n",
       "      <th>연차</th>\n",
       "    </tr>\n",
       "  </thead>\n",
       "  <tbody>\n",
       "    <tr>\n",
       "      <th>0</th>\n",
       "      <td>0</td>\n",
       "      <td>관광숙박업</td>\n",
       "      <td>20180618</td>\n",
       "      <td>3</td>\n",
       "      <td>폐업</td>\n",
       "      <td>20201008.0</td>\n",
       "      <td>100000.0</td>\n",
       "      <td>100000.0</td>\n",
       "      <td>5</td>\n",
       "      <td>8</td>\n",
       "      <td>126.986617</td>\n",
       "      <td>37.575468</td>\n",
       "      <td>서울특별시</td>\n",
       "      <td>2.317878</td>\n",
       "      <td>4</td>\n",
       "    </tr>\n",
       "    <tr>\n",
       "      <th>1</th>\n",
       "      <td>1</td>\n",
       "      <td>관광숙박업</td>\n",
       "      <td>20191018</td>\n",
       "      <td>1</td>\n",
       "      <td>영업/정상</td>\n",
       "      <td>100000.0</td>\n",
       "      <td>100000.0</td>\n",
       "      <td>100000.0</td>\n",
       "      <td>15</td>\n",
       "      <td>54</td>\n",
       "      <td>127.001070</td>\n",
       "      <td>37.575798</td>\n",
       "      <td>서울특별시</td>\n",
       "      <td>3.685598</td>\n",
       "      <td>3</td>\n",
       "    </tr>\n",
       "    <tr>\n",
       "      <th>2</th>\n",
       "      <td>2</td>\n",
       "      <td>관광숙박업</td>\n",
       "      <td>20180705</td>\n",
       "      <td>1</td>\n",
       "      <td>영업/정상</td>\n",
       "      <td>100000.0</td>\n",
       "      <td>100000.0</td>\n",
       "      <td>100000.0</td>\n",
       "      <td>10</td>\n",
       "      <td>42</td>\n",
       "      <td>126.981901</td>\n",
       "      <td>37.573053</td>\n",
       "      <td>서울특별시</td>\n",
       "      <td>1.833392</td>\n",
       "      <td>4</td>\n",
       "    </tr>\n",
       "    <tr>\n",
       "      <th>3</th>\n",
       "      <td>3</td>\n",
       "      <td>관광숙박업</td>\n",
       "      <td>20180214</td>\n",
       "      <td>1</td>\n",
       "      <td>영업/정상</td>\n",
       "      <td>100000.0</td>\n",
       "      <td>100000.0</td>\n",
       "      <td>100000.0</td>\n",
       "      <td>14</td>\n",
       "      <td>61</td>\n",
       "      <td>127.019354</td>\n",
       "      <td>37.573846</td>\n",
       "      <td>서울특별시</td>\n",
       "      <td>3.202947</td>\n",
       "      <td>4</td>\n",
       "    </tr>\n",
       "    <tr>\n",
       "      <th>4</th>\n",
       "      <td>4</td>\n",
       "      <td>관광숙박업</td>\n",
       "      <td>20140508</td>\n",
       "      <td>1</td>\n",
       "      <td>영업/정상</td>\n",
       "      <td>100000.0</td>\n",
       "      <td>100000.0</td>\n",
       "      <td>100000.0</td>\n",
       "      <td>5</td>\n",
       "      <td>10</td>\n",
       "      <td>127.007328</td>\n",
       "      <td>37.570651</td>\n",
       "      <td>서울특별시</td>\n",
       "      <td>4.213350</td>\n",
       "      <td>8</td>\n",
       "    </tr>\n",
       "    <tr>\n",
       "      <th>...</th>\n",
       "      <td>...</td>\n",
       "      <td>...</td>\n",
       "      <td>...</td>\n",
       "      <td>...</td>\n",
       "      <td>...</td>\n",
       "      <td>...</td>\n",
       "      <td>...</td>\n",
       "      <td>...</td>\n",
       "      <td>...</td>\n",
       "      <td>...</td>\n",
       "      <td>...</td>\n",
       "      <td>...</td>\n",
       "      <td>...</td>\n",
       "      <td>...</td>\n",
       "      <td>...</td>\n",
       "    </tr>\n",
       "    <tr>\n",
       "      <th>42718</th>\n",
       "      <td>42718</td>\n",
       "      <td>일반야영장업</td>\n",
       "      <td>20150625</td>\n",
       "      <td>1</td>\n",
       "      <td>영업/정상</td>\n",
       "      <td>100000.0</td>\n",
       "      <td>100000.0</td>\n",
       "      <td>100000.0</td>\n",
       "      <td>0</td>\n",
       "      <td>0</td>\n",
       "      <td>126.334375</td>\n",
       "      <td>33.306181</td>\n",
       "      <td>제주특별자치도</td>\n",
       "      <td>0.000000</td>\n",
       "      <td>7</td>\n",
       "    </tr>\n",
       "    <tr>\n",
       "      <th>42719</th>\n",
       "      <td>42719</td>\n",
       "      <td>일반야영장업</td>\n",
       "      <td>20150522</td>\n",
       "      <td>1</td>\n",
       "      <td>영업/정상</td>\n",
       "      <td>100000.0</td>\n",
       "      <td>100000.0</td>\n",
       "      <td>100000.0</td>\n",
       "      <td>0</td>\n",
       "      <td>0</td>\n",
       "      <td>126.605475</td>\n",
       "      <td>33.240524</td>\n",
       "      <td>제주특별자치도</td>\n",
       "      <td>0.000000</td>\n",
       "      <td>7</td>\n",
       "    </tr>\n",
       "    <tr>\n",
       "      <th>42720</th>\n",
       "      <td>42720</td>\n",
       "      <td>일반야영장업</td>\n",
       "      <td>20160509</td>\n",
       "      <td>1</td>\n",
       "      <td>영업/정상</td>\n",
       "      <td>100000.0</td>\n",
       "      <td>100000.0</td>\n",
       "      <td>100000.0</td>\n",
       "      <td>0</td>\n",
       "      <td>0</td>\n",
       "      <td>126.415480</td>\n",
       "      <td>33.252231</td>\n",
       "      <td>제주특별자치도</td>\n",
       "      <td>0.000000</td>\n",
       "      <td>6</td>\n",
       "    </tr>\n",
       "    <tr>\n",
       "      <th>42721</th>\n",
       "      <td>42721</td>\n",
       "      <td>일반야영장업</td>\n",
       "      <td>20150727</td>\n",
       "      <td>1</td>\n",
       "      <td>영업/정상</td>\n",
       "      <td>100000.0</td>\n",
       "      <td>100000.0</td>\n",
       "      <td>100000.0</td>\n",
       "      <td>0</td>\n",
       "      <td>0</td>\n",
       "      <td>126.456886</td>\n",
       "      <td>33.310780</td>\n",
       "      <td>제주특별자치도</td>\n",
       "      <td>0.000000</td>\n",
       "      <td>7</td>\n",
       "    </tr>\n",
       "    <tr>\n",
       "      <th>42722</th>\n",
       "      <td>42722</td>\n",
       "      <td>일반야영장업</td>\n",
       "      <td>20160610</td>\n",
       "      <td>3</td>\n",
       "      <td>폐업</td>\n",
       "      <td>20211122.0</td>\n",
       "      <td>100000.0</td>\n",
       "      <td>100000.0</td>\n",
       "      <td>0</td>\n",
       "      <td>0</td>\n",
       "      <td>126.253059</td>\n",
       "      <td>33.211670</td>\n",
       "      <td>제주특별자치도</td>\n",
       "      <td>0.000000</td>\n",
       "      <td>6</td>\n",
       "    </tr>\n",
       "  </tbody>\n",
       "</table>\n",
       "<p>42723 rows × 15 columns</p>\n",
       "</div>"
      ],
      "text/plain": [
       "       Unnamed: 0  개방서비스명     인허가일자  영업상태구분코드  영업상태명        폐업일자    휴업시작일자  \\\n",
       "0               0   관광숙박업  20180618         3     폐업  20201008.0  100000.0   \n",
       "1               1   관광숙박업  20191018         1  영업/정상    100000.0  100000.0   \n",
       "2               2   관광숙박업  20180705         1  영업/정상    100000.0  100000.0   \n",
       "3               3   관광숙박업  20180214         1  영업/정상    100000.0  100000.0   \n",
       "4               4   관광숙박업  20140508         1  영업/정상    100000.0  100000.0   \n",
       "...           ...     ...       ...       ...    ...         ...       ...   \n",
       "42718       42718  일반야영장업  20150625         1  영업/정상    100000.0  100000.0   \n",
       "42719       42719  일반야영장업  20150522         1  영업/정상    100000.0  100000.0   \n",
       "42720       42720  일반야영장업  20160509         1  영업/정상    100000.0  100000.0   \n",
       "42721       42721  일반야영장업  20150727         1  영업/정상    100000.0  100000.0   \n",
       "42722       42722  일반야영장업  20160610         3     폐업  20211122.0  100000.0   \n",
       "\n",
       "         휴업종료일자  총층수  객실수          경도         위도       지역  s_distance  연차  \n",
       "0      100000.0    5    8  126.986617  37.575468    서울특별시    2.317878   4  \n",
       "1      100000.0   15   54  127.001070  37.575798    서울특별시    3.685598   3  \n",
       "2      100000.0   10   42  126.981901  37.573053    서울특별시    1.833392   4  \n",
       "3      100000.0   14   61  127.019354  37.573846    서울특별시    3.202947   4  \n",
       "4      100000.0    5   10  127.007328  37.570651    서울특별시    4.213350   8  \n",
       "...         ...  ...  ...         ...        ...      ...         ...  ..  \n",
       "42718  100000.0    0    0  126.334375  33.306181  제주특별자치도    0.000000   7  \n",
       "42719  100000.0    0    0  126.605475  33.240524  제주특별자치도    0.000000   7  \n",
       "42720  100000.0    0    0  126.415480  33.252231  제주특별자치도    0.000000   6  \n",
       "42721  100000.0    0    0  126.456886  33.310780  제주특별자치도    0.000000   7  \n",
       "42722  100000.0    0    0  126.253059  33.211670  제주특별자치도    0.000000   6  \n",
       "\n",
       "[42723 rows x 15 columns]"
      ]
     },
     "execution_count": 65,
     "metadata": {},
     "output_type": "execute_result"
    }
   ],
   "source": [
    "df2021['연차'] = 2022 - df2021['인허가일자'].astype(str).str[:4].astype(int)\n",
    "df2021"
   ]
  },
  {
   "cell_type": "code",
   "execution_count": 66,
   "id": "a6cb85ea",
   "metadata": {
    "scrolled": false
   },
   "outputs": [],
   "source": [
    "df2019['연차'] = df2021['연차'] - 2\n",
    "df2020['연차'] = df2021['연차'] - 1"
   ]
  },
  {
   "cell_type": "markdown",
   "id": "f4fade30",
   "metadata": {},
   "source": [
    "## 원핫인코딩 및 라벨인코딩 for 모델 적용"
   ]
  },
  {
   "cell_type": "code",
   "execution_count": 67,
   "id": "fb67501a",
   "metadata": {
    "scrolled": true
   },
   "outputs": [
    {
     "data": {
      "text/html": [
       "<div>\n",
       "<style scoped>\n",
       "    .dataframe tbody tr th:only-of-type {\n",
       "        vertical-align: middle;\n",
       "    }\n",
       "\n",
       "    .dataframe tbody tr th {\n",
       "        vertical-align: top;\n",
       "    }\n",
       "\n",
       "    .dataframe thead th {\n",
       "        text-align: right;\n",
       "    }\n",
       "</style>\n",
       "<table border=\"1\" class=\"dataframe\">\n",
       "  <thead>\n",
       "    <tr style=\"text-align: right;\">\n",
       "      <th></th>\n",
       "      <th>Unnamed: 0</th>\n",
       "      <th>인허가일자</th>\n",
       "      <th>영업상태구분코드</th>\n",
       "      <th>영업상태명</th>\n",
       "      <th>폐업일자</th>\n",
       "      <th>휴업시작일자</th>\n",
       "      <th>휴업종료일자</th>\n",
       "      <th>총층수</th>\n",
       "      <th>객실수</th>\n",
       "      <th>경도</th>\n",
       "      <th>...</th>\n",
       "      <th>지역_부산광역시</th>\n",
       "      <th>지역_서울특별시</th>\n",
       "      <th>지역_세종특별자치시</th>\n",
       "      <th>지역_울산광역시</th>\n",
       "      <th>지역_인천광역시</th>\n",
       "      <th>지역_전라남도</th>\n",
       "      <th>지역_전라북도</th>\n",
       "      <th>지역_제주특별자치도</th>\n",
       "      <th>지역_충청남도</th>\n",
       "      <th>지역_충청북도</th>\n",
       "    </tr>\n",
       "  </thead>\n",
       "  <tbody>\n",
       "    <tr>\n",
       "      <th>0</th>\n",
       "      <td>0</td>\n",
       "      <td>20180618</td>\n",
       "      <td>3</td>\n",
       "      <td>폐업</td>\n",
       "      <td>20201008.0</td>\n",
       "      <td>100000.0</td>\n",
       "      <td>100000.0</td>\n",
       "      <td>5</td>\n",
       "      <td>8</td>\n",
       "      <td>126.986617</td>\n",
       "      <td>...</td>\n",
       "      <td>0</td>\n",
       "      <td>1</td>\n",
       "      <td>0</td>\n",
       "      <td>0</td>\n",
       "      <td>0</td>\n",
       "      <td>0</td>\n",
       "      <td>0</td>\n",
       "      <td>0</td>\n",
       "      <td>0</td>\n",
       "      <td>0</td>\n",
       "    </tr>\n",
       "    <tr>\n",
       "      <th>1</th>\n",
       "      <td>1</td>\n",
       "      <td>20191018</td>\n",
       "      <td>1</td>\n",
       "      <td>영업/정상</td>\n",
       "      <td>100000.0</td>\n",
       "      <td>100000.0</td>\n",
       "      <td>100000.0</td>\n",
       "      <td>15</td>\n",
       "      <td>54</td>\n",
       "      <td>127.001070</td>\n",
       "      <td>...</td>\n",
       "      <td>0</td>\n",
       "      <td>1</td>\n",
       "      <td>0</td>\n",
       "      <td>0</td>\n",
       "      <td>0</td>\n",
       "      <td>0</td>\n",
       "      <td>0</td>\n",
       "      <td>0</td>\n",
       "      <td>0</td>\n",
       "      <td>0</td>\n",
       "    </tr>\n",
       "    <tr>\n",
       "      <th>2</th>\n",
       "      <td>2</td>\n",
       "      <td>20180705</td>\n",
       "      <td>1</td>\n",
       "      <td>영업/정상</td>\n",
       "      <td>100000.0</td>\n",
       "      <td>100000.0</td>\n",
       "      <td>100000.0</td>\n",
       "      <td>10</td>\n",
       "      <td>42</td>\n",
       "      <td>126.981901</td>\n",
       "      <td>...</td>\n",
       "      <td>0</td>\n",
       "      <td>1</td>\n",
       "      <td>0</td>\n",
       "      <td>0</td>\n",
       "      <td>0</td>\n",
       "      <td>0</td>\n",
       "      <td>0</td>\n",
       "      <td>0</td>\n",
       "      <td>0</td>\n",
       "      <td>0</td>\n",
       "    </tr>\n",
       "    <tr>\n",
       "      <th>3</th>\n",
       "      <td>3</td>\n",
       "      <td>20180214</td>\n",
       "      <td>1</td>\n",
       "      <td>영업/정상</td>\n",
       "      <td>100000.0</td>\n",
       "      <td>100000.0</td>\n",
       "      <td>100000.0</td>\n",
       "      <td>14</td>\n",
       "      <td>61</td>\n",
       "      <td>127.019354</td>\n",
       "      <td>...</td>\n",
       "      <td>0</td>\n",
       "      <td>1</td>\n",
       "      <td>0</td>\n",
       "      <td>0</td>\n",
       "      <td>0</td>\n",
       "      <td>0</td>\n",
       "      <td>0</td>\n",
       "      <td>0</td>\n",
       "      <td>0</td>\n",
       "      <td>0</td>\n",
       "    </tr>\n",
       "    <tr>\n",
       "      <th>4</th>\n",
       "      <td>4</td>\n",
       "      <td>20140508</td>\n",
       "      <td>1</td>\n",
       "      <td>영업/정상</td>\n",
       "      <td>100000.0</td>\n",
       "      <td>100000.0</td>\n",
       "      <td>100000.0</td>\n",
       "      <td>5</td>\n",
       "      <td>10</td>\n",
       "      <td>127.007328</td>\n",
       "      <td>...</td>\n",
       "      <td>0</td>\n",
       "      <td>1</td>\n",
       "      <td>0</td>\n",
       "      <td>0</td>\n",
       "      <td>0</td>\n",
       "      <td>0</td>\n",
       "      <td>0</td>\n",
       "      <td>0</td>\n",
       "      <td>0</td>\n",
       "      <td>0</td>\n",
       "    </tr>\n",
       "    <tr>\n",
       "      <th>...</th>\n",
       "      <td>...</td>\n",
       "      <td>...</td>\n",
       "      <td>...</td>\n",
       "      <td>...</td>\n",
       "      <td>...</td>\n",
       "      <td>...</td>\n",
       "      <td>...</td>\n",
       "      <td>...</td>\n",
       "      <td>...</td>\n",
       "      <td>...</td>\n",
       "      <td>...</td>\n",
       "      <td>...</td>\n",
       "      <td>...</td>\n",
       "      <td>...</td>\n",
       "      <td>...</td>\n",
       "      <td>...</td>\n",
       "      <td>...</td>\n",
       "      <td>...</td>\n",
       "      <td>...</td>\n",
       "      <td>...</td>\n",
       "      <td>...</td>\n",
       "    </tr>\n",
       "    <tr>\n",
       "      <th>42718</th>\n",
       "      <td>42718</td>\n",
       "      <td>20150625</td>\n",
       "      <td>1</td>\n",
       "      <td>영업/정상</td>\n",
       "      <td>100000.0</td>\n",
       "      <td>100000.0</td>\n",
       "      <td>100000.0</td>\n",
       "      <td>0</td>\n",
       "      <td>0</td>\n",
       "      <td>126.334375</td>\n",
       "      <td>...</td>\n",
       "      <td>0</td>\n",
       "      <td>0</td>\n",
       "      <td>0</td>\n",
       "      <td>0</td>\n",
       "      <td>0</td>\n",
       "      <td>0</td>\n",
       "      <td>0</td>\n",
       "      <td>1</td>\n",
       "      <td>0</td>\n",
       "      <td>0</td>\n",
       "    </tr>\n",
       "    <tr>\n",
       "      <th>42719</th>\n",
       "      <td>42719</td>\n",
       "      <td>20150522</td>\n",
       "      <td>1</td>\n",
       "      <td>영업/정상</td>\n",
       "      <td>100000.0</td>\n",
       "      <td>100000.0</td>\n",
       "      <td>100000.0</td>\n",
       "      <td>0</td>\n",
       "      <td>0</td>\n",
       "      <td>126.605475</td>\n",
       "      <td>...</td>\n",
       "      <td>0</td>\n",
       "      <td>0</td>\n",
       "      <td>0</td>\n",
       "      <td>0</td>\n",
       "      <td>0</td>\n",
       "      <td>0</td>\n",
       "      <td>0</td>\n",
       "      <td>1</td>\n",
       "      <td>0</td>\n",
       "      <td>0</td>\n",
       "    </tr>\n",
       "    <tr>\n",
       "      <th>42720</th>\n",
       "      <td>42720</td>\n",
       "      <td>20160509</td>\n",
       "      <td>1</td>\n",
       "      <td>영업/정상</td>\n",
       "      <td>100000.0</td>\n",
       "      <td>100000.0</td>\n",
       "      <td>100000.0</td>\n",
       "      <td>0</td>\n",
       "      <td>0</td>\n",
       "      <td>126.415480</td>\n",
       "      <td>...</td>\n",
       "      <td>0</td>\n",
       "      <td>0</td>\n",
       "      <td>0</td>\n",
       "      <td>0</td>\n",
       "      <td>0</td>\n",
       "      <td>0</td>\n",
       "      <td>0</td>\n",
       "      <td>1</td>\n",
       "      <td>0</td>\n",
       "      <td>0</td>\n",
       "    </tr>\n",
       "    <tr>\n",
       "      <th>42721</th>\n",
       "      <td>42721</td>\n",
       "      <td>20150727</td>\n",
       "      <td>1</td>\n",
       "      <td>영업/정상</td>\n",
       "      <td>100000.0</td>\n",
       "      <td>100000.0</td>\n",
       "      <td>100000.0</td>\n",
       "      <td>0</td>\n",
       "      <td>0</td>\n",
       "      <td>126.456886</td>\n",
       "      <td>...</td>\n",
       "      <td>0</td>\n",
       "      <td>0</td>\n",
       "      <td>0</td>\n",
       "      <td>0</td>\n",
       "      <td>0</td>\n",
       "      <td>0</td>\n",
       "      <td>0</td>\n",
       "      <td>1</td>\n",
       "      <td>0</td>\n",
       "      <td>0</td>\n",
       "    </tr>\n",
       "    <tr>\n",
       "      <th>42722</th>\n",
       "      <td>42722</td>\n",
       "      <td>20160610</td>\n",
       "      <td>3</td>\n",
       "      <td>폐업</td>\n",
       "      <td>20211122.0</td>\n",
       "      <td>100000.0</td>\n",
       "      <td>100000.0</td>\n",
       "      <td>0</td>\n",
       "      <td>0</td>\n",
       "      <td>126.253059</td>\n",
       "      <td>...</td>\n",
       "      <td>0</td>\n",
       "      <td>0</td>\n",
       "      <td>0</td>\n",
       "      <td>0</td>\n",
       "      <td>0</td>\n",
       "      <td>0</td>\n",
       "      <td>0</td>\n",
       "      <td>1</td>\n",
       "      <td>0</td>\n",
       "      <td>0</td>\n",
       "    </tr>\n",
       "  </tbody>\n",
       "</table>\n",
       "<p>42723 rows × 37 columns</p>\n",
       "</div>"
      ],
      "text/plain": [
       "       Unnamed: 0     인허가일자  영업상태구분코드  영업상태명        폐업일자    휴업시작일자    휴업종료일자  \\\n",
       "0               0  20180618         3     폐업  20201008.0  100000.0  100000.0   \n",
       "1               1  20191018         1  영업/정상    100000.0  100000.0  100000.0   \n",
       "2               2  20180705         1  영업/정상    100000.0  100000.0  100000.0   \n",
       "3               3  20180214         1  영업/정상    100000.0  100000.0  100000.0   \n",
       "4               4  20140508         1  영업/정상    100000.0  100000.0  100000.0   \n",
       "...           ...       ...       ...    ...         ...       ...       ...   \n",
       "42718       42718  20150625         1  영업/정상    100000.0  100000.0  100000.0   \n",
       "42719       42719  20150522         1  영업/정상    100000.0  100000.0  100000.0   \n",
       "42720       42720  20160509         1  영업/정상    100000.0  100000.0  100000.0   \n",
       "42721       42721  20150727         1  영업/정상    100000.0  100000.0  100000.0   \n",
       "42722       42722  20160610         3     폐업  20211122.0  100000.0  100000.0   \n",
       "\n",
       "       총층수  객실수          경도  ...  지역_부산광역시  지역_서울특별시  지역_세종특별자치시  지역_울산광역시  \\\n",
       "0        5    8  126.986617  ...         0         1           0         0   \n",
       "1       15   54  127.001070  ...         0         1           0         0   \n",
       "2       10   42  126.981901  ...         0         1           0         0   \n",
       "3       14   61  127.019354  ...         0         1           0         0   \n",
       "4        5   10  127.007328  ...         0         1           0         0   \n",
       "...    ...  ...         ...  ...       ...       ...         ...       ...   \n",
       "42718    0    0  126.334375  ...         0         0           0         0   \n",
       "42719    0    0  126.605475  ...         0         0           0         0   \n",
       "42720    0    0  126.415480  ...         0         0           0         0   \n",
       "42721    0    0  126.456886  ...         0         0           0         0   \n",
       "42722    0    0  126.253059  ...         0         0           0         0   \n",
       "\n",
       "       지역_인천광역시  지역_전라남도  지역_전라북도  지역_제주특별자치도  지역_충청남도  지역_충청북도  \n",
       "0             0        0        0           0        0        0  \n",
       "1             0        0        0           0        0        0  \n",
       "2             0        0        0           0        0        0  \n",
       "3             0        0        0           0        0        0  \n",
       "4             0        0        0           0        0        0  \n",
       "...         ...      ...      ...         ...      ...      ...  \n",
       "42718         0        0        0           1        0        0  \n",
       "42719         0        0        0           1        0        0  \n",
       "42720         0        0        0           1        0        0  \n",
       "42721         0        0        0           1        0        0  \n",
       "42722         0        0        0           1        0        0  \n",
       "\n",
       "[42723 rows x 37 columns]"
      ]
     },
     "execution_count": 67,
     "metadata": {},
     "output_type": "execute_result"
    }
   ],
   "source": [
    "# 문자열 데이터 더미화: 개방서비스명 지역 원핫인코딩\n",
    "df2019_1 = pd.get_dummies(df2019, columns = ['개방서비스명'])\n",
    "df2019_1 = pd.get_dummies(df2019_1, columns = ['지역'])\n",
    "df2019_1\n",
    "\n",
    "df2020_1 = pd.get_dummies(df2020, columns = ['개방서비스명'])\n",
    "df2020_1 = pd.get_dummies(df2020_1, columns = ['지역'])\n",
    "df2020_1\n",
    "\n",
    "df2021_1 = pd.get_dummies(df2021, columns = ['개방서비스명'])\n",
    "df2021_1 = pd.get_dummies(df2021_1, columns = ['지역'])\n",
    "df2021_1"
   ]
  },
  {
   "cell_type": "code",
   "execution_count": 68,
   "id": "9415b830",
   "metadata": {
    "scrolled": true
   },
   "outputs": [
    {
     "data": {
      "text/html": [
       "<div>\n",
       "<style scoped>\n",
       "    .dataframe tbody tr th:only-of-type {\n",
       "        vertical-align: middle;\n",
       "    }\n",
       "\n",
       "    .dataframe tbody tr th {\n",
       "        vertical-align: top;\n",
       "    }\n",
       "\n",
       "    .dataframe thead th {\n",
       "        text-align: right;\n",
       "    }\n",
       "</style>\n",
       "<table border=\"1\" class=\"dataframe\">\n",
       "  <thead>\n",
       "    <tr style=\"text-align: right;\">\n",
       "      <th></th>\n",
       "      <th>Unnamed: 0</th>\n",
       "      <th>인허가일자</th>\n",
       "      <th>영업상태구분코드</th>\n",
       "      <th>영업상태명</th>\n",
       "      <th>폐업일자</th>\n",
       "      <th>휴업시작일자</th>\n",
       "      <th>휴업종료일자</th>\n",
       "      <th>총층수</th>\n",
       "      <th>객실수</th>\n",
       "      <th>경도</th>\n",
       "      <th>...</th>\n",
       "      <th>지역_서울특별시</th>\n",
       "      <th>지역_세종특별자치시</th>\n",
       "      <th>지역_울산광역시</th>\n",
       "      <th>지역_인천광역시</th>\n",
       "      <th>지역_전라남도</th>\n",
       "      <th>지역_전라북도</th>\n",
       "      <th>지역_제주특별자치도</th>\n",
       "      <th>지역_충청남도</th>\n",
       "      <th>지역_충청북도</th>\n",
       "      <th>영업상태코드2021</th>\n",
       "    </tr>\n",
       "  </thead>\n",
       "  <tbody>\n",
       "    <tr>\n",
       "      <th>0</th>\n",
       "      <td>0</td>\n",
       "      <td>20180618</td>\n",
       "      <td>3</td>\n",
       "      <td>폐업</td>\n",
       "      <td>20201008.0</td>\n",
       "      <td>100000.0</td>\n",
       "      <td>100000.0</td>\n",
       "      <td>5</td>\n",
       "      <td>8</td>\n",
       "      <td>126.986617</td>\n",
       "      <td>...</td>\n",
       "      <td>1</td>\n",
       "      <td>0</td>\n",
       "      <td>0</td>\n",
       "      <td>0</td>\n",
       "      <td>0</td>\n",
       "      <td>0</td>\n",
       "      <td>0</td>\n",
       "      <td>0</td>\n",
       "      <td>0</td>\n",
       "      <td>1</td>\n",
       "    </tr>\n",
       "    <tr>\n",
       "      <th>1</th>\n",
       "      <td>1</td>\n",
       "      <td>20191018</td>\n",
       "      <td>1</td>\n",
       "      <td>영업/정상</td>\n",
       "      <td>100000.0</td>\n",
       "      <td>100000.0</td>\n",
       "      <td>100000.0</td>\n",
       "      <td>15</td>\n",
       "      <td>54</td>\n",
       "      <td>127.001070</td>\n",
       "      <td>...</td>\n",
       "      <td>1</td>\n",
       "      <td>0</td>\n",
       "      <td>0</td>\n",
       "      <td>0</td>\n",
       "      <td>0</td>\n",
       "      <td>0</td>\n",
       "      <td>0</td>\n",
       "      <td>0</td>\n",
       "      <td>0</td>\n",
       "      <td>0</td>\n",
       "    </tr>\n",
       "    <tr>\n",
       "      <th>2</th>\n",
       "      <td>2</td>\n",
       "      <td>20180705</td>\n",
       "      <td>1</td>\n",
       "      <td>영업/정상</td>\n",
       "      <td>100000.0</td>\n",
       "      <td>100000.0</td>\n",
       "      <td>100000.0</td>\n",
       "      <td>10</td>\n",
       "      <td>42</td>\n",
       "      <td>126.981901</td>\n",
       "      <td>...</td>\n",
       "      <td>1</td>\n",
       "      <td>0</td>\n",
       "      <td>0</td>\n",
       "      <td>0</td>\n",
       "      <td>0</td>\n",
       "      <td>0</td>\n",
       "      <td>0</td>\n",
       "      <td>0</td>\n",
       "      <td>0</td>\n",
       "      <td>0</td>\n",
       "    </tr>\n",
       "    <tr>\n",
       "      <th>3</th>\n",
       "      <td>3</td>\n",
       "      <td>20180214</td>\n",
       "      <td>1</td>\n",
       "      <td>영업/정상</td>\n",
       "      <td>100000.0</td>\n",
       "      <td>100000.0</td>\n",
       "      <td>100000.0</td>\n",
       "      <td>14</td>\n",
       "      <td>61</td>\n",
       "      <td>127.019354</td>\n",
       "      <td>...</td>\n",
       "      <td>1</td>\n",
       "      <td>0</td>\n",
       "      <td>0</td>\n",
       "      <td>0</td>\n",
       "      <td>0</td>\n",
       "      <td>0</td>\n",
       "      <td>0</td>\n",
       "      <td>0</td>\n",
       "      <td>0</td>\n",
       "      <td>0</td>\n",
       "    </tr>\n",
       "    <tr>\n",
       "      <th>4</th>\n",
       "      <td>4</td>\n",
       "      <td>20140508</td>\n",
       "      <td>1</td>\n",
       "      <td>영업/정상</td>\n",
       "      <td>100000.0</td>\n",
       "      <td>100000.0</td>\n",
       "      <td>100000.0</td>\n",
       "      <td>5</td>\n",
       "      <td>10</td>\n",
       "      <td>127.007328</td>\n",
       "      <td>...</td>\n",
       "      <td>1</td>\n",
       "      <td>0</td>\n",
       "      <td>0</td>\n",
       "      <td>0</td>\n",
       "      <td>0</td>\n",
       "      <td>0</td>\n",
       "      <td>0</td>\n",
       "      <td>0</td>\n",
       "      <td>0</td>\n",
       "      <td>0</td>\n",
       "    </tr>\n",
       "    <tr>\n",
       "      <th>...</th>\n",
       "      <td>...</td>\n",
       "      <td>...</td>\n",
       "      <td>...</td>\n",
       "      <td>...</td>\n",
       "      <td>...</td>\n",
       "      <td>...</td>\n",
       "      <td>...</td>\n",
       "      <td>...</td>\n",
       "      <td>...</td>\n",
       "      <td>...</td>\n",
       "      <td>...</td>\n",
       "      <td>...</td>\n",
       "      <td>...</td>\n",
       "      <td>...</td>\n",
       "      <td>...</td>\n",
       "      <td>...</td>\n",
       "      <td>...</td>\n",
       "      <td>...</td>\n",
       "      <td>...</td>\n",
       "      <td>...</td>\n",
       "      <td>...</td>\n",
       "    </tr>\n",
       "    <tr>\n",
       "      <th>42718</th>\n",
       "      <td>42718</td>\n",
       "      <td>20150625</td>\n",
       "      <td>1</td>\n",
       "      <td>영업/정상</td>\n",
       "      <td>100000.0</td>\n",
       "      <td>100000.0</td>\n",
       "      <td>100000.0</td>\n",
       "      <td>0</td>\n",
       "      <td>0</td>\n",
       "      <td>126.334375</td>\n",
       "      <td>...</td>\n",
       "      <td>0</td>\n",
       "      <td>0</td>\n",
       "      <td>0</td>\n",
       "      <td>0</td>\n",
       "      <td>0</td>\n",
       "      <td>0</td>\n",
       "      <td>1</td>\n",
       "      <td>0</td>\n",
       "      <td>0</td>\n",
       "      <td>0</td>\n",
       "    </tr>\n",
       "    <tr>\n",
       "      <th>42719</th>\n",
       "      <td>42719</td>\n",
       "      <td>20150522</td>\n",
       "      <td>1</td>\n",
       "      <td>영업/정상</td>\n",
       "      <td>100000.0</td>\n",
       "      <td>100000.0</td>\n",
       "      <td>100000.0</td>\n",
       "      <td>0</td>\n",
       "      <td>0</td>\n",
       "      <td>126.605475</td>\n",
       "      <td>...</td>\n",
       "      <td>0</td>\n",
       "      <td>0</td>\n",
       "      <td>0</td>\n",
       "      <td>0</td>\n",
       "      <td>0</td>\n",
       "      <td>0</td>\n",
       "      <td>1</td>\n",
       "      <td>0</td>\n",
       "      <td>0</td>\n",
       "      <td>0</td>\n",
       "    </tr>\n",
       "    <tr>\n",
       "      <th>42720</th>\n",
       "      <td>42720</td>\n",
       "      <td>20160509</td>\n",
       "      <td>1</td>\n",
       "      <td>영업/정상</td>\n",
       "      <td>100000.0</td>\n",
       "      <td>100000.0</td>\n",
       "      <td>100000.0</td>\n",
       "      <td>0</td>\n",
       "      <td>0</td>\n",
       "      <td>126.415480</td>\n",
       "      <td>...</td>\n",
       "      <td>0</td>\n",
       "      <td>0</td>\n",
       "      <td>0</td>\n",
       "      <td>0</td>\n",
       "      <td>0</td>\n",
       "      <td>0</td>\n",
       "      <td>1</td>\n",
       "      <td>0</td>\n",
       "      <td>0</td>\n",
       "      <td>0</td>\n",
       "    </tr>\n",
       "    <tr>\n",
       "      <th>42721</th>\n",
       "      <td>42721</td>\n",
       "      <td>20150727</td>\n",
       "      <td>1</td>\n",
       "      <td>영업/정상</td>\n",
       "      <td>100000.0</td>\n",
       "      <td>100000.0</td>\n",
       "      <td>100000.0</td>\n",
       "      <td>0</td>\n",
       "      <td>0</td>\n",
       "      <td>126.456886</td>\n",
       "      <td>...</td>\n",
       "      <td>0</td>\n",
       "      <td>0</td>\n",
       "      <td>0</td>\n",
       "      <td>0</td>\n",
       "      <td>0</td>\n",
       "      <td>0</td>\n",
       "      <td>1</td>\n",
       "      <td>0</td>\n",
       "      <td>0</td>\n",
       "      <td>0</td>\n",
       "    </tr>\n",
       "    <tr>\n",
       "      <th>42722</th>\n",
       "      <td>42722</td>\n",
       "      <td>20160610</td>\n",
       "      <td>3</td>\n",
       "      <td>폐업</td>\n",
       "      <td>20211122.0</td>\n",
       "      <td>100000.0</td>\n",
       "      <td>100000.0</td>\n",
       "      <td>0</td>\n",
       "      <td>0</td>\n",
       "      <td>126.253059</td>\n",
       "      <td>...</td>\n",
       "      <td>0</td>\n",
       "      <td>0</td>\n",
       "      <td>0</td>\n",
       "      <td>0</td>\n",
       "      <td>0</td>\n",
       "      <td>0</td>\n",
       "      <td>1</td>\n",
       "      <td>0</td>\n",
       "      <td>0</td>\n",
       "      <td>1</td>\n",
       "    </tr>\n",
       "  </tbody>\n",
       "</table>\n",
       "<p>42723 rows × 38 columns</p>\n",
       "</div>"
      ],
      "text/plain": [
       "       Unnamed: 0     인허가일자  영업상태구분코드  영업상태명        폐업일자    휴업시작일자    휴업종료일자  \\\n",
       "0               0  20180618         3     폐업  20201008.0  100000.0  100000.0   \n",
       "1               1  20191018         1  영업/정상    100000.0  100000.0  100000.0   \n",
       "2               2  20180705         1  영업/정상    100000.0  100000.0  100000.0   \n",
       "3               3  20180214         1  영업/정상    100000.0  100000.0  100000.0   \n",
       "4               4  20140508         1  영업/정상    100000.0  100000.0  100000.0   \n",
       "...           ...       ...       ...    ...         ...       ...       ...   \n",
       "42718       42718  20150625         1  영업/정상    100000.0  100000.0  100000.0   \n",
       "42719       42719  20150522         1  영업/정상    100000.0  100000.0  100000.0   \n",
       "42720       42720  20160509         1  영업/정상    100000.0  100000.0  100000.0   \n",
       "42721       42721  20150727         1  영업/정상    100000.0  100000.0  100000.0   \n",
       "42722       42722  20160610         3     폐업  20211122.0  100000.0  100000.0   \n",
       "\n",
       "       총층수  객실수          경도  ...  지역_서울특별시  지역_세종특별자치시  지역_울산광역시  지역_인천광역시  \\\n",
       "0        5    8  126.986617  ...         1           0         0         0   \n",
       "1       15   54  127.001070  ...         1           0         0         0   \n",
       "2       10   42  126.981901  ...         1           0         0         0   \n",
       "3       14   61  127.019354  ...         1           0         0         0   \n",
       "4        5   10  127.007328  ...         1           0         0         0   \n",
       "...    ...  ...         ...  ...       ...         ...       ...       ...   \n",
       "42718    0    0  126.334375  ...         0           0         0         0   \n",
       "42719    0    0  126.605475  ...         0           0         0         0   \n",
       "42720    0    0  126.415480  ...         0           0         0         0   \n",
       "42721    0    0  126.456886  ...         0           0         0         0   \n",
       "42722    0    0  126.253059  ...         0           0         0         0   \n",
       "\n",
       "       지역_전라남도  지역_전라북도  지역_제주특별자치도  지역_충청남도  지역_충청북도  영업상태코드2021  \n",
       "0            0        0           0        0        0           1  \n",
       "1            0        0           0        0        0           0  \n",
       "2            0        0           0        0        0           0  \n",
       "3            0        0           0        0        0           0  \n",
       "4            0        0           0        0        0           0  \n",
       "...        ...      ...         ...      ...      ...         ...  \n",
       "42718        0        0           1        0        0           0  \n",
       "42719        0        0           1        0        0           0  \n",
       "42720        0        0           1        0        0           0  \n",
       "42721        0        0           1        0        0           0  \n",
       "42722        0        0           1        0        0           1  \n",
       "\n",
       "[42723 rows x 38 columns]"
      ]
     },
     "execution_count": 68,
     "metadata": {},
     "output_type": "execute_result"
    }
   ],
   "source": [
    "# 영업상태명 -> 영업상태코드로 라벨인코딩\n",
    "from sklearn.preprocessing import LabelEncoder\n",
    "\n",
    "le = LabelEncoder()\n",
    "le.fit(df2019_1['영업상태명2019'])\n",
    "df2019_1['영업상태코드2019'] = le.transform(df2019_1['영업상태명2019'])\n",
    "df2019_1\n",
    "\n",
    "le = LabelEncoder()\n",
    "le.fit(df2020_1['영업상태명2020'])\n",
    "df2020_1['영업상태코드2020'] = le.transform(df2020_1['영업상태명2020'])\n",
    "df2020_1\n",
    "\n",
    "le = LabelEncoder()\n",
    "le.fit(df2021_1['영업상태명'])\n",
    "df2021_1['영업상태코드2021'] = le.transform(df2021_1['영업상태명'])\n",
    "df2021_1"
   ]
  },
  {
   "cell_type": "markdown",
   "id": "a0e34b07",
   "metadata": {},
   "source": [
    "# 모델링\n",
    "- 본 데이터 분석의 최종목적은 기존 경향으로 개폐업을 예측한 결과와 실제값을 비교하여코로나의 영향을 파악하는 것이므로, 2019년까지의 데이터만 모델에 훈련시킬 예정"
   ]
  },
  {
   "cell_type": "code",
   "execution_count": 79,
   "id": "969f638d",
   "metadata": {},
   "outputs": [],
   "source": [
    "from sklearn import model_selection\n",
    "from sklearn.ensemble import RandomForestClassifier\n",
    "\n",
    "from sklearn.metrics import classification_report\n",
    "from sklearn.metrics import f1_score"
   ]
  },
  {
   "cell_type": "code",
   "execution_count": 80,
   "id": "bc60073a",
   "metadata": {},
   "outputs": [],
   "source": [
    "# 연도별 데이터 생성\n",
    "x_data_2019 = df2019_1.drop(columns = ['영업상태코드2019','Unnamed: 0', '영업상태구분코드', '폐업일자', '휴업시작일자',\n",
    "                                       '휴업종료일자', '경도', '위도', '영업상태명2019','인허가일자'], axis = 1)\n",
    "y_data_2019 = df2019_1['영업상태코드2019']\n",
    "\n",
    "\n",
    "x_data_2020 = df2020_1.drop(columns = ['영업상태코드2020','Unnamed: 0', '영업상태구분코드', '폐업일자', '휴업시작일자',\n",
    "                                       '휴업종료일자', '경도', '위도', '영업상태명2020','인허가일자'], axis = 1)\n",
    "y_data_2020 = df2020_1['영업상태코드2020']\n",
    "\n",
    "\n",
    "x_data_2021 = df2021_1.drop(columns = ['영업상태코드2021','Unnamed: 0', '영업상태구분코드', '폐업일자', '휴업시작일자', \n",
    "                                       '휴업종료일자', '경도', '위도', '영업상태코드2021', '영업상태명','인허가일자'], axis = 1)\n",
    "y_data_2021 = df2021_1['영업상태코드2021']"
   ]
  },
  {
   "cell_type": "code",
   "execution_count": 105,
   "id": "f0cdb250",
   "metadata": {
    "scrolled": true
   },
   "outputs": [
    {
     "name": "stdout",
     "output_type": "stream",
     "text": [
      "(40461, 28)\n",
      "(41297, 28)\n",
      "(42723, 28)\n"
     ]
    }
   ],
   "source": [
    "print(x_data_2019.shape)\n",
    "print(x_data_2020.shape)\n",
    "print(x_data_2021.shape)"
   ]
  },
  {
   "cell_type": "code",
   "execution_count": 119,
   "id": "dc534931",
   "metadata": {},
   "outputs": [
    {
     "data": {
      "text/plain": [
       "개방서비스명    \n",
       "숙박업           38038\n",
       "관광숙박업          1216\n",
       "외국인관광도시민박업      755\n",
       "일반야영장업          255\n",
       "한옥체험업            83\n",
       "자동차야영장업          75\n",
       "관광펜션업            39\n",
       "dtype: int64"
      ]
     },
     "execution_count": 119,
     "metadata": {},
     "output_type": "execute_result"
    }
   ],
   "source": [
    "pd.DataFrame(df2019['개방서비스명']).value_counts()"
   ]
  },
  {
   "cell_type": "code",
   "execution_count": 117,
   "id": "5c78a071",
   "metadata": {},
   "outputs": [
    {
     "data": {
      "text/plain": [
       "개방서비스명    \n",
       "숙박업           38697\n",
       "관광숙박업          1284\n",
       "외국인관광도시민박업      817\n",
       "일반야영장업          276\n",
       "한옥체험업            97\n",
       "자동차야영장업          80\n",
       "관광펜션업            46\n",
       "dtype: int64"
      ]
     },
     "execution_count": 117,
     "metadata": {},
     "output_type": "execute_result"
    }
   ],
   "source": [
    "pd.DataFrame(df2020['개방서비스명']).value_counts()"
   ]
  },
  {
   "cell_type": "code",
   "execution_count": 118,
   "id": "6a53ef6d",
   "metadata": {},
   "outputs": [
    {
     "data": {
      "text/plain": [
       "개방서비스명    \n",
       "숙박업           39491\n",
       "관광숙박업          1394\n",
       "외국인관광도시민박업      968\n",
       "일반야영장업          492\n",
       "한옥체험업           188\n",
       "자동차야영장업         120\n",
       "관광펜션업            70\n",
       "dtype: int64"
      ]
     },
     "execution_count": 118,
     "metadata": {},
     "output_type": "execute_result"
    }
   ],
   "source": [
    "pd.DataFrame(df2021['개방서비스명']).value_counts()"
   ]
  },
  {
   "cell_type": "code",
   "execution_count": 112,
   "id": "91c1d712",
   "metadata": {
    "scrolled": true
   },
   "outputs": [
    {
     "data": {
      "text/plain": [
       "영업상태코드2019\n",
       "0             31293\n",
       "1              9160\n",
       "2                 8\n",
       "dtype: int64"
      ]
     },
     "execution_count": 112,
     "metadata": {},
     "output_type": "execute_result"
    }
   ],
   "source": [
    "pd.DataFrame(y_data_2019).value_counts()"
   ]
  },
  {
   "cell_type": "code",
   "execution_count": 113,
   "id": "ae1edd1c",
   "metadata": {
    "scrolled": true
   },
   "outputs": [
    {
     "data": {
      "text/plain": [
       "영업상태코드2020\n",
       "0             31047\n",
       "1             10233\n",
       "2                17\n",
       "dtype: int64"
      ]
     },
     "execution_count": 113,
     "metadata": {},
     "output_type": "execute_result"
    }
   ],
   "source": [
    "pd.DataFrame(y_data_2020).value_counts()"
   ]
  },
  {
   "cell_type": "code",
   "execution_count": 114,
   "id": "08024bee",
   "metadata": {},
   "outputs": [
    {
     "data": {
      "text/plain": [
       "영업상태코드2021\n",
       "0             31077\n",
       "1             11550\n",
       "2                96\n",
       "dtype: int64"
      ]
     },
     "execution_count": 114,
     "metadata": {},
     "output_type": "execute_result"
    }
   ],
   "source": [
    "pd.DataFrame(y_data_2021).value_counts()"
   ]
  },
  {
   "cell_type": "markdown",
   "id": "b1d92ebd",
   "metadata": {},
   "source": [
    "## 오버샘플링\n",
    "- 영업정상/폐업/휴업 각 데이터 개수의 차이가 매우 크므로 오버샘플링"
   ]
  },
  {
   "cell_type": "code",
   "execution_count": 81,
   "id": "7a8e1703",
   "metadata": {},
   "outputs": [],
   "source": [
    "from imblearn.over_sampling import SMOTE"
   ]
  },
  {
   "cell_type": "code",
   "execution_count": 82,
   "id": "a39c76c0",
   "metadata": {
    "scrolled": false
   },
   "outputs": [],
   "source": [
    "x_resampled_19, y_resampled_19 = SMOTE(random_state=0).fit_resample(x_data_2019, y_data_2019)"
   ]
  },
  {
   "cell_type": "code",
   "execution_count": 83,
   "id": "43920239",
   "metadata": {},
   "outputs": [
    {
     "data": {
      "text/plain": [
       "0    31293\n",
       "1    31293\n",
       "2    31293\n",
       "Name: 영업상태코드2019, dtype: int64"
      ]
     },
     "execution_count": 83,
     "metadata": {},
     "output_type": "execute_result"
    }
   ],
   "source": [
    "y_resampled_19.value_counts()"
   ]
  },
  {
   "cell_type": "code",
   "execution_count": 84,
   "id": "a5bf850d",
   "metadata": {
    "scrolled": true
   },
   "outputs": [
    {
     "name": "stdout",
     "output_type": "stream",
     "text": [
      "<class 'pandas.core.frame.DataFrame'>\n",
      "Int64Index: 40461 entries, 0 to 42722\n",
      "Data columns (total 28 columns):\n",
      " #   Column             Non-Null Count  Dtype  \n",
      "---  ------             --------------  -----  \n",
      " 0   총층수                40461 non-null  int64  \n",
      " 1   객실수                40461 non-null  int64  \n",
      " 2   s_distance         40461 non-null  float64\n",
      " 3   연차                 40461 non-null  int32  \n",
      " 4   개방서비스명_관광숙박업       40461 non-null  uint8  \n",
      " 5   개방서비스명_관광펜션업       40461 non-null  uint8  \n",
      " 6   개방서비스명_숙박업         40461 non-null  uint8  \n",
      " 7   개방서비스명_외국인관광도시민박업  40461 non-null  uint8  \n",
      " 8   개방서비스명_일반야영장업      40461 non-null  uint8  \n",
      " 9   개방서비스명_자동차야영장업     40461 non-null  uint8  \n",
      " 10  개방서비스명_한옥체험업       40461 non-null  uint8  \n",
      " 11  지역_강원도             40461 non-null  uint8  \n",
      " 12  지역_경기도             40461 non-null  uint8  \n",
      " 13  지역_경상남도            40461 non-null  uint8  \n",
      " 14  지역_경상북도            40461 non-null  uint8  \n",
      " 15  지역_광주광역시           40461 non-null  uint8  \n",
      " 16  지역_대구광역시           40461 non-null  uint8  \n",
      " 17  지역_대전광역시           40461 non-null  uint8  \n",
      " 18  지역_부산광역시           40461 non-null  uint8  \n",
      " 19  지역_서울특별시           40461 non-null  uint8  \n",
      " 20  지역_세종특별자치시         40461 non-null  uint8  \n",
      " 21  지역_울산광역시           40461 non-null  uint8  \n",
      " 22  지역_인천광역시           40461 non-null  uint8  \n",
      " 23  지역_전라남도            40461 non-null  uint8  \n",
      " 24  지역_전라북도            40461 non-null  uint8  \n",
      " 25  지역_제주특별자치도         40461 non-null  uint8  \n",
      " 26  지역_충청남도            40461 non-null  uint8  \n",
      " 27  지역_충청북도            40461 non-null  uint8  \n",
      "dtypes: float64(1), int32(1), int64(2), uint8(24)\n",
      "memory usage: 2.3 MB\n"
     ]
    }
   ],
   "source": [
    "x_data_2019.info()"
   ]
  },
  {
   "cell_type": "code",
   "execution_count": 85,
   "id": "01ae17a8",
   "metadata": {},
   "outputs": [],
   "source": [
    "# train데이터와 test데이터를 7대 3비울로 나누기\n",
    "x_train_19, x_test_19, y_train_19, y_test_19 = model_selection.train_test_split(x_resampled_19, y_resampled_19,\n",
    "                                                                                test_size = 0.3, random_state = 11)"
   ]
  },
  {
   "cell_type": "code",
   "execution_count": 86,
   "id": "fd4db52a",
   "metadata": {},
   "outputs": [
    {
     "data": {
      "text/plain": [
       "(65715, 28)"
      ]
     },
     "execution_count": 86,
     "metadata": {},
     "output_type": "execute_result"
    }
   ],
   "source": [
    "x_train_19.shape"
   ]
  },
  {
   "cell_type": "markdown",
   "id": "9835cde4",
   "metadata": {},
   "source": [
    "## 사용한 모델:  GaussianNB, KNN, RandomForestClassifier"
   ]
  },
  {
   "cell_type": "markdown",
   "id": "ec313256",
   "metadata": {},
   "source": [
    "GaussianNB"
   ]
  },
  {
   "cell_type": "code",
   "execution_count": 87,
   "id": "2028fc52",
   "metadata": {},
   "outputs": [
    {
     "name": "stdout",
     "output_type": "stream",
     "text": [
      "              precision    recall  f1-score   support\n",
      "\n",
      "           0       0.78      0.22      0.34      9445\n",
      "           1       0.54      0.92      0.69      9399\n",
      "           2       0.97      1.00      0.99      9320\n",
      "\n",
      "    accuracy                           0.71     28164\n",
      "   macro avg       0.77      0.71      0.67     28164\n",
      "weighted avg       0.77      0.71      0.67     28164\n",
      "\n"
     ]
    }
   ],
   "source": [
    "from sklearn.naive_bayes import GaussianNB\n",
    "NB = GaussianNB()\n",
    "NB.fit(x_train_19, y_train_19)\n",
    "\n",
    "y_predict_19 = NB.predict(x_test_19)\n",
    "\n",
    "\n",
    "print(classification_report(y_test_19, y_predict_19))"
   ]
  },
  {
   "cell_type": "markdown",
   "id": "8953f8e6",
   "metadata": {},
   "source": [
    "KNN"
   ]
  },
  {
   "cell_type": "code",
   "execution_count": 88,
   "id": "2edcce9d",
   "metadata": {
    "scrolled": false
   },
   "outputs": [
    {
     "name": "stdout",
     "output_type": "stream",
     "text": [
      "              precision    recall  f1-score   support\n",
      "\n",
      "           0       0.83      0.61      0.70      9445\n",
      "           1       0.70      0.88      0.78      9399\n",
      "           2       0.98      1.00      0.99      9320\n",
      "\n",
      "    accuracy                           0.83     28164\n",
      "   macro avg       0.84      0.83      0.82     28164\n",
      "weighted avg       0.84      0.83      0.82     28164\n",
      "\n"
     ]
    }
   ],
   "source": [
    "from sklearn.neighbors import KNeighborsClassifier\n",
    "\n",
    "knn = KNeighborsClassifier()\n",
    "knn.fit(x_train_19, y_train_19)\n",
    "\n",
    "y_predict_19 = knn.predict(x_test_19)\n",
    "\n",
    "\n",
    "print(classification_report(y_test_19, y_predict_19))"
   ]
  },
  {
   "cell_type": "markdown",
   "id": "0ad8ca48",
   "metadata": {},
   "source": [
    "RandomForestClassifier"
   ]
  },
  {
   "cell_type": "code",
   "execution_count": 89,
   "id": "aff5a5b5",
   "metadata": {
    "scrolled": false
   },
   "outputs": [
    {
     "name": "stdout",
     "output_type": "stream",
     "text": [
      "              precision    recall  f1-score   support\n",
      "\n",
      "           0       0.83      0.85      0.84      9445\n",
      "           1       0.85      0.83      0.84      9399\n",
      "           2       1.00      1.00      1.00      9320\n",
      "\n",
      "    accuracy                           0.89     28164\n",
      "   macro avg       0.89      0.89      0.89     28164\n",
      "weighted avg       0.89      0.89      0.89     28164\n",
      "\n"
     ]
    }
   ],
   "source": [
    "forest= RandomForestClassifier(random_state=1217)\n",
    "forest.fit(x_train_19,y_train_19)\n",
    "\n",
    "y_predict_19 = forest.predict(x_test_19)\n",
    "\n",
    "print(classification_report(y_test_19, y_predict_19))"
   ]
  },
  {
   "cell_type": "markdown",
   "id": "6b9353dd",
   "metadata": {},
   "source": [
    "### RandomForestClassifier의 예측 정확도가 가장 높으므로 해당 모델로 2020년 2021년 개폐업 예측 진행"
   ]
  },
  {
   "cell_type": "code",
   "execution_count": 90,
   "id": "5d4005ab",
   "metadata": {
    "scrolled": true
   },
   "outputs": [
    {
     "name": "stdout",
     "output_type": "stream",
     "text": [
      "              precision    recall  f1-score   support\n",
      "\n",
      "           0       0.90      0.93      0.92     31047\n",
      "           1       0.77      0.69      0.73     10233\n",
      "           2       0.33      0.06      0.10        17\n",
      "\n",
      "    accuracy                           0.87     41297\n",
      "   macro avg       0.67      0.56      0.58     41297\n",
      "weighted avg       0.87      0.87      0.87     41297\n",
      "\n"
     ]
    }
   ],
   "source": [
    "y_predict_20 = forest.predict(x_data_2020)\n",
    "\n",
    "print(classification_report(y_data_2020, y_predict_20))"
   ]
  },
  {
   "cell_type": "code",
   "execution_count": 91,
   "id": "cc55f5d4",
   "metadata": {
    "scrolled": true
   },
   "outputs": [
    {
     "name": "stdout",
     "output_type": "stream",
     "text": [
      "              precision    recall  f1-score   support\n",
      "\n",
      "           0       0.85      0.92      0.88     31077\n",
      "           1       0.72      0.57      0.64     11550\n",
      "           2       0.40      0.02      0.04        96\n",
      "\n",
      "    accuracy                           0.82     42723\n",
      "   macro avg       0.66      0.50      0.52     42723\n",
      "weighted avg       0.81      0.82      0.81     42723\n",
      "\n"
     ]
    }
   ],
   "source": [
    "y_predict_21 = forest.predict(x_data_2021)\n",
    "\n",
    "print(classification_report(y_data_2021, y_predict_21))"
   ]
  },
  {
   "cell_type": "markdown",
   "id": "96c318fd",
   "metadata": {},
   "source": [
    "## 예측정확도가 가장 높은 RandomForestClassifier로 변수별 중요도 확인"
   ]
  },
  {
   "cell_type": "code",
   "execution_count": 92,
   "id": "8c5992ab",
   "metadata": {
    "scrolled": false
   },
   "outputs": [
    {
     "data": {
      "image/png": "[encoded data removed]",
      "text/plain": [
       "<Figure size 576x432 with 1 Axes>"
      ]
     },
     "metadata": {
      "needs_background": "light"
     },
     "output_type": "display_data"
    }
   ],
   "source": [
    "ftr_importances_values = forest.feature_importances_\n",
    "ftr_importances = pd.Series(ftr_importances_values, index = x_train_19.columns)\n",
    "ftr_top = ftr_importances.sort_values(ascending=False)\n",
    "\n",
    "plt.figure(figsize=(8,6))\n",
    "plt.title(' Feature Importances')\n",
    "sns.barplot(x=ftr_top, y=ftr_top.index)\n",
    "plt.show()"
   ]
  },
  {
   "cell_type": "code",
   "execution_count": 93,
   "id": "43f3b7c1",
   "metadata": {
    "scrolled": false
   },
   "outputs": [],
   "source": [
    "ftr_sec = pd.DataFrame(ftr_top)\n",
    "ftr_sec.to_excel('C:/Users/sgvin/Desktop/개인2/대학/동아리/경진대회/2022 1회 경진대회/논문/feature_importances_list.xlsx')"
   ]
  },
  {
   "cell_type": "code",
   "execution_count": 94,
   "id": "70615459",
   "metadata": {},
   "outputs": [
    {
     "data": {
      "text/html": [
       "<div>\n",
       "<style scoped>\n",
       "    .dataframe tbody tr th:only-of-type {\n",
       "        vertical-align: middle;\n",
       "    }\n",
       "\n",
       "    .dataframe tbody tr th {\n",
       "        vertical-align: top;\n",
       "    }\n",
       "\n",
       "    .dataframe thead th {\n",
       "        text-align: right;\n",
       "    }\n",
       "</style>\n",
       "<table border=\"1\" class=\"dataframe\">\n",
       "  <thead>\n",
       "    <tr style=\"text-align: right;\">\n",
       "      <th></th>\n",
       "      <th>0</th>\n",
       "    </tr>\n",
       "  </thead>\n",
       "  <tbody>\n",
       "    <tr>\n",
       "      <th>개방서비스명_숙박업</th>\n",
       "      <td>0.225348</td>\n",
       "    </tr>\n",
       "    <tr>\n",
       "      <th>연차</th>\n",
       "      <td>0.200650</td>\n",
       "    </tr>\n",
       "    <tr>\n",
       "      <th>객실수</th>\n",
       "      <td>0.186957</td>\n",
       "    </tr>\n",
       "    <tr>\n",
       "      <th>s_distance</th>\n",
       "      <td>0.148862</td>\n",
       "    </tr>\n",
       "    <tr>\n",
       "      <th>총층수</th>\n",
       "      <td>0.048074</td>\n",
       "    </tr>\n",
       "    <tr>\n",
       "      <th>지역_서울특별시</th>\n",
       "      <td>0.020742</td>\n",
       "    </tr>\n",
       "    <tr>\n",
       "      <th>지역_경기도</th>\n",
       "      <td>0.018743</td>\n",
       "    </tr>\n",
       "    <tr>\n",
       "      <th>지역_경상남도</th>\n",
       "      <td>0.016839</td>\n",
       "    </tr>\n",
       "    <tr>\n",
       "      <th>지역_경상북도</th>\n",
       "      <td>0.014960</td>\n",
       "    </tr>\n",
       "    <tr>\n",
       "      <th>지역_전라남도</th>\n",
       "      <td>0.014164</td>\n",
       "    </tr>\n",
       "    <tr>\n",
       "      <th>지역_강원도</th>\n",
       "      <td>0.013311</td>\n",
       "    </tr>\n",
       "    <tr>\n",
       "      <th>지역_충청남도</th>\n",
       "      <td>0.012025</td>\n",
       "    </tr>\n",
       "    <tr>\n",
       "      <th>지역_부산광역시</th>\n",
       "      <td>0.010631</td>\n",
       "    </tr>\n",
       "    <tr>\n",
       "      <th>지역_전라북도</th>\n",
       "      <td>0.010060</td>\n",
       "    </tr>\n",
       "    <tr>\n",
       "      <th>개방서비스명_관광숙박업</th>\n",
       "      <td>0.008505</td>\n",
       "    </tr>\n",
       "    <tr>\n",
       "      <th>지역_충청북도</th>\n",
       "      <td>0.007125</td>\n",
       "    </tr>\n",
       "    <tr>\n",
       "      <th>지역_인천광역시</th>\n",
       "      <td>0.006167</td>\n",
       "    </tr>\n",
       "    <tr>\n",
       "      <th>지역_울산광역시</th>\n",
       "      <td>0.006092</td>\n",
       "    </tr>\n",
       "    <tr>\n",
       "      <th>지역_제주특별자치도</th>\n",
       "      <td>0.005353</td>\n",
       "    </tr>\n",
       "    <tr>\n",
       "      <th>지역_대구광역시</th>\n",
       "      <td>0.004998</td>\n",
       "    </tr>\n",
       "    <tr>\n",
       "      <th>지역_대전광역시</th>\n",
       "      <td>0.004866</td>\n",
       "    </tr>\n",
       "    <tr>\n",
       "      <th>개방서비스명_일반야영장업</th>\n",
       "      <td>0.004228</td>\n",
       "    </tr>\n",
       "    <tr>\n",
       "      <th>지역_광주광역시</th>\n",
       "      <td>0.004020</td>\n",
       "    </tr>\n",
       "    <tr>\n",
       "      <th>개방서비스명_외국인관광도시민박업</th>\n",
       "      <td>0.003716</td>\n",
       "    </tr>\n",
       "    <tr>\n",
       "      <th>지역_세종특별자치시</th>\n",
       "      <td>0.001176</td>\n",
       "    </tr>\n",
       "    <tr>\n",
       "      <th>개방서비스명_자동차야영장업</th>\n",
       "      <td>0.001158</td>\n",
       "    </tr>\n",
       "    <tr>\n",
       "      <th>개방서비스명_한옥체험업</th>\n",
       "      <td>0.000984</td>\n",
       "    </tr>\n",
       "    <tr>\n",
       "      <th>개방서비스명_관광펜션업</th>\n",
       "      <td>0.000245</td>\n",
       "    </tr>\n",
       "  </tbody>\n",
       "</table>\n",
       "</div>"
      ],
      "text/plain": [
       "                          0\n",
       "개방서비스명_숙박업         0.225348\n",
       "연차                 0.200650\n",
       "객실수                0.186957\n",
       "s_distance         0.148862\n",
       "총층수                0.048074\n",
       "지역_서울특별시           0.020742\n",
       "지역_경기도             0.018743\n",
       "지역_경상남도            0.016839\n",
       "지역_경상북도            0.014960\n",
       "지역_전라남도            0.014164\n",
       "지역_강원도             0.013311\n",
       "지역_충청남도            0.012025\n",
       "지역_부산광역시           0.010631\n",
       "지역_전라북도            0.010060\n",
       "개방서비스명_관광숙박업       0.008505\n",
       "지역_충청북도            0.007125\n",
       "지역_인천광역시           0.006167\n",
       "지역_울산광역시           0.006092\n",
       "지역_제주특별자치도         0.005353\n",
       "지역_대구광역시           0.004998\n",
       "지역_대전광역시           0.004866\n",
       "개방서비스명_일반야영장업      0.004228\n",
       "지역_광주광역시           0.004020\n",
       "개방서비스명_외국인관광도시민박업  0.003716\n",
       "지역_세종특별자치시         0.001176\n",
       "개방서비스명_자동차야영장업     0.001158\n",
       "개방서비스명_한옥체험업       0.000984\n",
       "개방서비스명_관광펜션업       0.000245"
      ]
     },
     "execution_count": 94,
     "metadata": {},
     "output_type": "execute_result"
    }
   ],
   "source": [
    "ftr_sec"
   ]
  },
  {
   "cell_type": "markdown",
   "id": "d55568c4",
   "metadata": {},
   "source": [
    "# 코로나 이후 예측값과 실제값 비교"
   ]
  },
  {
   "cell_type": "code",
   "execution_count": 95,
   "id": "97810395",
   "metadata": {
    "scrolled": true
   },
   "outputs": [
    {
     "data": {
      "text/plain": [
       "0    31047\n",
       "1    10233\n",
       "2       17\n",
       "Name: 영업상태코드2020, dtype: int64"
      ]
     },
     "execution_count": 95,
     "metadata": {},
     "output_type": "execute_result"
    }
   ],
   "source": [
    "y_data_2020.value_counts()"
   ]
  },
  {
   "cell_type": "code",
   "execution_count": 96,
   "id": "2d6b290b",
   "metadata": {
    "scrolled": true
   },
   "outputs": [
    {
     "data": {
      "text/plain": [
       "0    32106\n",
       "1     9188\n",
       "2        3\n",
       "dtype: int64"
      ]
     },
     "execution_count": 96,
     "metadata": {},
     "output_type": "execute_result"
    }
   ],
   "source": [
    "pd.DataFrame(y_predict_20).value_counts()"
   ]
  },
  {
   "cell_type": "code",
   "execution_count": 97,
   "id": "625f7d7c",
   "metadata": {
    "scrolled": true
   },
   "outputs": [
    {
     "data": {
      "text/plain": [
       "0    31077\n",
       "1    11550\n",
       "2       96\n",
       "Name: 영업상태코드2021, dtype: int64"
      ]
     },
     "execution_count": 97,
     "metadata": {},
     "output_type": "execute_result"
    }
   ],
   "source": [
    "y_data_2021.value_counts()"
   ]
  },
  {
   "cell_type": "code",
   "execution_count": 98,
   "id": "459fefdc",
   "metadata": {
    "scrolled": true
   },
   "outputs": [
    {
     "data": {
      "text/plain": [
       "0    33556\n",
       "1     9162\n",
       "2        5\n",
       "dtype: int64"
      ]
     },
     "execution_count": 98,
     "metadata": {},
     "output_type": "execute_result"
    }
   ],
   "source": [
    "pd.DataFrame(y_predict_21).value_counts()"
   ]
  },
  {
   "cell_type": "markdown",
   "id": "c594164c",
   "metadata": {},
   "source": [
    "# 시각화\n",
    "-  전처리 이후 생성된 데이터를 사용하여 한꺼번에 시각화 진행"
   ]
  },
  {
   "cell_type": "code",
   "execution_count": 89,
   "id": "dd02485b",
   "metadata": {},
   "outputs": [],
   "source": [
    "v_data_19 = df2019\n",
    "v_data_19['영업상태명2019'] = df2019['영업상태명2019']\n",
    "\n",
    "v_data_20 = df2020\n",
    "v_data_20['영업상태명2020'] = df2020['영업상태명2020']\n",
    "\n",
    "v_data_21 = df2021"
   ]
  },
  {
   "cell_type": "code",
   "execution_count": 90,
   "id": "23150736",
   "metadata": {
    "scrolled": true
   },
   "outputs": [
    {
     "data": {
      "text/plain": [
       "Unnamed: 0    0\n",
       "개방서비스명        0\n",
       "인허가일자         0\n",
       "영업상태구분코드      0\n",
       "폐업일자          0\n",
       "휴업시작일자        0\n",
       "휴업종료일자        0\n",
       "총층수           0\n",
       "객실수           0\n",
       "경도            0\n",
       "위도            0\n",
       "지역            0\n",
       "s_distance    0\n",
       "영업상태명2020     0\n",
       "연차            0\n",
       "dtype: int64"
      ]
     },
     "execution_count": 90,
     "metadata": {},
     "output_type": "execute_result"
    }
   ],
   "source": [
    "v_data_20.isnull().sum()"
   ]
  },
  {
   "cell_type": "code",
   "execution_count": 91,
   "id": "72c01b09",
   "metadata": {},
   "outputs": [],
   "source": [
    "v_data_19.to_excel('숙박업_19.xlsx')\n",
    "v_data_20.to_excel('숙박업_20.xlsx')\n",
    "df2021.to_excel('숙박업_21.xlsx')"
   ]
  },
  {
   "cell_type": "code",
   "execution_count": 92,
   "id": "6b1e7e95",
   "metadata": {},
   "outputs": [],
   "source": [
    "df1 = pd.read_excel('숙박업_21.xlsx')\n",
    "df2 = pd.read_excel('숙박업_20.xlsx')\n",
    "df3 = pd.read_excel('숙박업_19.xlsx')"
   ]
  },
  {
   "cell_type": "code",
   "execution_count": 93,
   "id": "868b51dc",
   "metadata": {},
   "outputs": [
    {
     "data": {
      "image/png": "[encoded data removed]",
      "text/plain": [
       "<Figure size 432x288 with 1 Axes>"
      ]
     },
     "metadata": {
      "needs_background": "light"
     },
     "output_type": "display_data"
    }
   ],
   "source": [
    "# 영업상태별 역과의 거리\n",
    "sns.barplot(x=df1.영업상태명,y=df1.s_distance)\n",
    "plt.show()"
   ]
  },
  {
   "cell_type": "code",
   "execution_count": 94,
   "id": "e8fdaa23",
   "metadata": {},
   "outputs": [],
   "source": [
    "df1_1=df1[df1['영업상태명']=='영업/정상']\n",
    "df1_2=df1[df1['영업상태명']=='폐업']\n",
    "df1_3=df1[df1['영업상태명']=='휴업']"
   ]
  },
  {
   "cell_type": "code",
   "execution_count": 95,
   "id": "9634a7d5",
   "metadata": {
    "scrolled": true
   },
   "outputs": [
    {
     "name": "stderr",
     "output_type": "stream",
     "text": [
      "C:\\ProgramData\\Anaconda3\\lib\\site-packages\\seaborn\\_decorators.py:36: FutureWarning: Pass the following variables as keyword args: x, y. From version 0.12, the only valid positional argument will be `data`, and passing other arguments without an explicit keyword will result in an error or misinterpretation.\n",
      "  warnings.warn(\n"
     ]
    },
    {
     "data": {
      "image/png": "[encoded data removed]",
      "text/plain": [
       "<Figure size 360x360 with 1 Axes>"
      ]
     },
     "metadata": {
      "needs_background": "light"
     },
     "output_type": "display_data"
    }
   ],
   "source": [
    "#지역별 숙박업 현황 파악\n",
    "sns.lmplot('경도','위도', data=df1, fit_reg=False, scatter_kws={'s':7})\n",
    "sns.scatterplot(x=df1_2.경도, y=df1_2.위도, s=7, color='#F7A919')\n",
    "sns.scatterplot(x=df1_3.경도, y=df1_3.위도, s=7, color='#32CD32')\n",
    "plt.legend(labels=[\"영업/정상\",\"폐업\",'휴업'])\n",
    "plt.show()"
   ]
  },
  {
   "cell_type": "code",
   "execution_count": 96,
   "id": "465d46a6",
   "metadata": {},
   "outputs": [
    {
     "data": {
      "image/png": "[encoded data removed]",
      "text/plain": [
       "<Figure size 432x288 with 1 Axes>"
      ]
     },
     "metadata": {
      "needs_background": "light"
     },
     "output_type": "display_data"
    }
   ],
   "source": [
    "#영업현황에 따른 연차 파악\n",
    "sns.barplot(x=df1.영업상태명,y=df1.연차)\n",
    "plt.show()"
   ]
  },
  {
   "cell_type": "code",
   "execution_count": 97,
   "id": "821948fe",
   "metadata": {},
   "outputs": [
    {
     "data": {
      "image/png": "[encoded data removed]",
      "text/plain": [
       "<Figure size 432x288 with 1 Axes>"
      ]
     },
     "metadata": {
      "needs_background": "light"
     },
     "output_type": "display_data"
    }
   ],
   "source": [
    "# 연차에 따른 영업상태 바이올린플랏\n",
    "ax1 = sns.violinplot(x=df1.영업상태명,y=df1.연차)\n",
    "ax1.set_title('연차에따른 영업현황')\n",
    "ax1.set_xlabel('영업상태')\n",
    "ax1.set_ylabel('연차')\n",
    "plt.show()"
   ]
  },
  {
   "cell_type": "code",
   "execution_count": 98,
   "id": "1a705ea5",
   "metadata": {},
   "outputs": [
    {
     "name": "stderr",
     "output_type": "stream",
     "text": [
      "C:\\ProgramData\\Anaconda3\\lib\\site-packages\\seaborn\\distributions.py:2619: FutureWarning: `distplot` is a deprecated function and will be removed in a future version. Please adapt your code to use either `displot` (a figure-level function with similar flexibility) or `histplot` (an axes-level function for histograms).\n",
      "  warnings.warn(msg, FutureWarning)\n",
      "C:\\ProgramData\\Anaconda3\\lib\\site-packages\\seaborn\\distributions.py:2619: FutureWarning: `distplot` is a deprecated function and will be removed in a future version. Please adapt your code to use either `displot` (a figure-level function with similar flexibility) or `histplot` (an axes-level function for histograms).\n",
      "  warnings.warn(msg, FutureWarning)\n"
     ]
    },
    {
     "data": {
      "image/png": "[encoded data removed]",
      "text/plain": [
       "<Figure size 432x288 with 1 Axes>"
      ]
     },
     "metadata": {
      "needs_background": "light"
     },
     "output_type": "display_data"
    }
   ],
   "source": [
    "#연차별 영업상태 히스토그램\n",
    "sns.distplot(df1[df1['영업상태구분코드']==1]['연차'],kde=True,hist=True,bins=13) \n",
    "sns.distplot(df1[df1['영업상태구분코드']==2]['연차'],kde=True,hist=True,bins=13) \n",
    "plt.legend(labels=[\"영업/정상\",\"폐업\"])\n",
    "plt.show()"
   ]
  },
  {
   "cell_type": "code",
   "execution_count": null,
   "id": "abff36d7",
   "metadata": {},
   "outputs": [],
   "source": []
  },
  {
   "cell_type": "code",
   "execution_count": null,
   "id": "bd7e42ef",
   "metadata": {},
   "outputs": [],
   "source": []
  },
  {
   "cell_type": "code",
   "execution_count": null,
   "id": "52692b34",
   "metadata": {},
   "outputs": [],
   "source": []
  }
 ],
 "metadata": {
  "kernelspec": {
   "display_name": "Python 3 (ipykernel)",
   "language": "python",
   "name": "python3"
  },
  "language_info": {
   "codemirror_mode": {
    "name": "ipython",
    "version": 3
   },
   "file_extension": ".py",
   "mimetype": "text/x-python",
   "name": "python",
   "nbconvert_exporter": "python",
   "pygments_lexer": "ipython3",
   "version": "3.9.7"
  }
 },
 "nbformat": 4,
 "nbformat_minor": 5
}
